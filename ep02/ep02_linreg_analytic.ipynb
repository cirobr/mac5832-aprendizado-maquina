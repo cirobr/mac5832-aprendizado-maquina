{
 "cells": [
  {
   "cell_type": "code",
   "execution_count": 1,
   "metadata": {},
   "outputs": [
    {
     "name": "stdout",
     "output_type": "stream",
     "text": [
      "\n",
      "Name:  Ciro B Rosa / No USP 2320769\n",
      "\n",
      "Honor pledge:  I affirm that I have not given or received any unauthorized help on this assignment, and that this work is my own.\n",
      "\n"
     ]
    }
   ],
   "source": [
    "name = \"Ciro B Rosa / No USP 2320769\"  # write YOUR NAME\n",
    "\n",
    "honorPledge = \"I affirm that I have not given or received any unauthorized \" \\\n",
    "              \"help on this assignment, and that this work is my own.\\n\"\n",
    "\n",
    "\n",
    "print(\"\\nName: \", name)\n",
    "print(\"\\nHonor pledge: \", honorPledge)"
   ]
  },
  {
   "cell_type": "markdown",
   "metadata": {},
   "source": [
    "# MAC0460 / MAC5832 (2021)\n",
    "<hr>\n",
    "\n",
    "# EP2: Linear regression - analytic solution\n",
    "\n",
    "### Objectives:\n",
    "\n",
    "- to implement and test the analytic solution for the linear regression task (see, for instance, <a href=\"http://work.caltech.edu/slides/slides03.pdf\">Slides of Lecture 03</a> and Lecture 03 of *Learning from Data*)\n",
    "- to understand the core idea (*optimization of a loss or cost function*) for parameter adjustment in machine learning\n",
    "<hr>"
   ]
  },
  {
   "cell_type": "markdown",
   "metadata": {},
   "source": [
    "# Linear regression\n",
    "\n",
    "Given a dataset $\\{(\\mathbf{x}^{(1)}, y^{(1)}), \\dots ,(\\mathbf{x}^{(N)}, y^{(N)})\\}$ with $\\mathbf{x}^{(i)} \\in \\mathbb{R}^{d}$ and $y^{(i)} \\in \\mathbb{R}$, we would like to approximate the unknown function $f:\\mathbb{R}^{d} \\rightarrow \\mathbb{R}$ (recall that $y^{(i)} =f(\\mathbf{x}^{(i)})$) by means of a linear model $h$:\n",
    "$$\n",
    "h(\\mathbf{x}^{(i)}; \\mathbf{w}, b) = \\mathbf{w}^\\top  \\mathbf{x}^{(i)} + b\n",
    "$$\n",
    "\n",
    "Note that $h(\\mathbf{x}^{(i)}; \\mathbf{w}, b)$ is, in fact, an  [affine transformation](https://en.wikipedia.org/wiki/Affine_transformation) of  $\\mathbf{x}^{(i)}$. As commonly done, we will use the term \"linear\" to refer to an affine transformation.\n",
    "\n",
    "The output of $h$ is a linear transformation of $\\mathbf{x}^{(i)}$. We use the notation $h(\\mathbf{x}^{(i)}; \\mathbf{w}, b)$ to make clear that $h$ is a parametric model, i.e., the transformation $h$ is defined  by the parameters $\\mathbf{w}$ and $b$. We can view vector $\\mathbf{w}$ as a *weight* vector that controls the effect of each *feature* in the prediction.\n",
    "\n",
    "By adding one component with value equal to 1 to the observations $\\mathbf{x}$ (an artificial coordinate), we have:\n",
    "\n",
    "$$\\tilde{\\mathbf{x}} = (1, x_1, \\ldots, x_d) \\in \\mathbb{R}^{1+d}$$\n",
    "\n",
    "and then we can simplify the notation:\n",
    "$$\n",
    "h(\\mathbf{x}^{(i)}; \\mathbf{w}) = \\hat{y}^{(i)} = \\mathbf{w}^\\top  \\tilde{\\mathbf{x}}^{(i)}\n",
    "$$\n",
    "\n",
    "We would like to determine the optimal parameters $\\mathbf{w}$ such that prediction $\\hat{y}^{(i)}$ is as closest as possible to $y^{(i)}$ according to some error metric. Adopting the *mean square error* as such metric we have the following cost function:\n",
    "\n",
    "\\begin{equation}\n",
    "J(\\mathbf{w}) = \\frac{1}{N}\\sum_{i=1}^{N}\\big(\\hat{y}^{(i)} - y^{(i)}\\big)^{2}\n",
    "\\end{equation}\n",
    "\n",
    "Thus, the task of determining a function $h$ that is closest to $f$ is reduced to the task of finding the values $\\mathbf{w}$ that minimize $J(\\mathbf{w})$.\n",
    "\n",
    "**Now we will explore this model, starting with a simple dataset.**\n"
   ]
  },
  {
   "cell_type": "markdown",
   "metadata": {},
   "source": [
    "### Auxiliary functions"
   ]
  },
  {
   "cell_type": "code",
   "execution_count": 2,
   "metadata": {},
   "outputs": [],
   "source": [
    "# some imports\n",
    "import numpy as np\n",
    "import time\n",
    "import matplotlib.pyplot as plt\n",
    "\n",
    "%matplotlib inline"
   ]
  },
  {
   "cell_type": "code",
   "execution_count": 3,
   "metadata": {},
   "outputs": [],
   "source": [
    "# An auxiliary function\n",
    "def get_housing_prices_data(N, verbose=True):\n",
    "    \"\"\"\n",
    "    Generates artificial linear data,\n",
    "    where x = square meter, y = house price\n",
    "\n",
    "    :param N: data set size\n",
    "    :type N: int\n",
    "    \n",
    "    :param verbose: param to control print\n",
    "    :type verbose: bool\n",
    "    :return: design matrix, regression targets\n",
    "    :rtype: np.array, np.array\n",
    "    \"\"\"\n",
    "    cond = False\n",
    "    while not cond:\n",
    "        x = np.linspace(90, 1200, N)\n",
    "        gamma = np.random.normal(30, 10, x.size)\n",
    "        y = 50 * x + gamma * 400\n",
    "        x = x.astype(\"float32\")\n",
    "        x = x.reshape((x.shape[0], 1))\n",
    "        y = y.astype(\"float32\")\n",
    "        y = y.reshape((y.shape[0], 1))\n",
    "        cond = min(y) > 0\n",
    "        \n",
    "    xmean, xsdt, xmax, xmin = np.mean(x), np.std(x), np.max(x), np.min(x)\n",
    "    ymean, ysdt, ymax, ymin = np.mean(y), np.std(y), np.max(y), np.min(y)\n",
    "    if verbose:\n",
    "        print(\"\\nX shape = {}\".format(x.shape))\n",
    "        print(\"y shape = {}\\n\".format(y.shape))\n",
    "        print(\"X: mean {}, sdt {:.2f}, max {:.2f}, min {:.2f}\".format(xmean,\n",
    "                                                               xsdt,\n",
    "                                                               xmax,\n",
    "                                                               xmin))\n",
    "        print(\"y: mean {:.2f}, sdt {:.2f}, max {:.2f}, min {:.2f}\".format(ymean,\n",
    "                                                                 ysdt,\n",
    "                                                                 ymax,\n",
    "                                                                 ymin))\n",
    "    return x, y"
   ]
  },
  {
   "cell_type": "code",
   "execution_count": 4,
   "metadata": {},
   "outputs": [],
   "source": [
    "# Another auxiliary function\n",
    "def plot_points_regression(x,\n",
    "                           y,\n",
    "                           title,\n",
    "                           xlabel,\n",
    "                           ylabel,\n",
    "                           prediction=None,\n",
    "                           legend=False,\n",
    "                           r_squared=None,\n",
    "                           position=(90, 100)):\n",
    "    \"\"\"\n",
    "    Plots the data points and the prediction,\n",
    "    if there is one.\n",
    "\n",
    "    :param x: design matrix\n",
    "    :type x: np.array\n",
    "    :param y: regression targets\n",
    "    :type y: np.array\n",
    "    :param title: plot's title\n",
    "    :type title: str\n",
    "    :param xlabel: x axis label\n",
    "    :type xlabel: str\n",
    "    :param ylabel: y axis label\n",
    "    :type ylabel: str\n",
    "    :param prediction: model's prediction\n",
    "    :type prediction: np.array\n",
    "    :param legend: param to control print legends\n",
    "    :type legend: bool\n",
    "    :param r_squared: r^2 value\n",
    "    :type r_squared: float\n",
    "    :param position: text position\n",
    "    :type position: tuple\n",
    "    \"\"\"\n",
    "    fig, ax = plt.subplots(1, 1, figsize=(8, 8))\n",
    "    line1, = ax.plot(x, y, 'bo', label='Real data')\n",
    "    if prediction is not None:\n",
    "        line2, = ax.plot(x, prediction, 'r', label='Predicted data')\n",
    "        if legend:\n",
    "            plt.legend(handles=[line1, line2], loc=2)\n",
    "        ax.set_title(title,\n",
    "                 fontsize=20,\n",
    "                 fontweight='bold')\n",
    "    if r_squared is not None:\n",
    "        bbox_props = dict(boxstyle=\"square,pad=0.3\",\n",
    "                          fc=\"white\", ec=\"black\", lw=0.2)\n",
    "        t = ax.text(position[0], position[1], \"$R^2 ={:.4f}$\".format(r_squared),\n",
    "                    size=15, bbox=bbox_props)\n",
    "\n",
    "    ax.set_xlabel(xlabel, fontsize=20)\n",
    "    ax.set_ylabel(ylabel, fontsize=20)\n",
    "    plt.show()\n"
   ]
  },
  {
   "cell_type": "markdown",
   "metadata": {},
   "source": [
    "### The dataset \n",
    "\n",
    "The first dataset we will use is a toy dataset. We will generate $N=100$ observations with only one *feature* and a real value associated to each of them. We can view these observations as being pairs *(area of a real state in square meters, price of the real state)*. Our task is to construct a model that is able to predict the price of a real state, given its area."
   ]
  },
  {
   "cell_type": "code",
   "execution_count": 5,
   "metadata": {},
   "outputs": [
    {
     "name": "stdout",
     "output_type": "stream",
     "text": [
      "\n",
      "X shape = (100, 1)\n",
      "y shape = (100, 1)\n",
      "\n",
      "X: mean 645.0, sdt 323.65, max 1200.00, min 90.00\n",
      "y: mean 44285.05, sdt 16980.75, max 76510.27, min 10309.43\n"
     ]
    }
   ],
   "source": [
    "X, y = get_housing_prices_data(N=100)"
   ]
  },
  {
   "cell_type": "markdown",
   "metadata": {},
   "source": [
    "### Ploting the data"
   ]
  },
  {
   "cell_type": "code",
   "execution_count": 6,
   "metadata": {},
   "outputs": [
    {
     "data": {
      "image/png": "[encoded data removed]",
      "text/plain": [
       "<Figure size 576x576 with 1 Axes>"
      ]
     },
     "metadata": {
      "needs_background": "light"
     },
     "output_type": "display_data"
    }
   ],
   "source": [
    "plot_points_regression(X,\n",
    "                       y,\n",
    "                       title='Real estate prices prediction',\n",
    "                       xlabel=\"m\\u00b2\",\n",
    "                       ylabel='$')"
   ]
  },
  {
   "cell_type": "markdown",
   "metadata": {},
   "source": [
    "### The solution\n",
    "\n",
    "Given $f:\\mathbb{R}^{N\\times M} \\rightarrow \\mathbb{R}$ and $\\mathbf{A} \\in \\mathbb{R}^{N\\times M}$, we define the gradient of $f$ with respect to $\\mathbf{A}$ as:\n",
    "\n",
    "\\begin{equation*}\n",
    "\\nabla_{\\mathbf{A}}f = \\frac{\\partial f}{\\partial \\mathbf{A}} =  \\begin{bmatrix}\n",
    "\\frac{\\partial f}{\\partial \\mathbf{A}_{1,1}} & \\dots & \\frac{\\partial f}{\\partial \\mathbf{A}_{1,m}} \\\\\n",
    "\\vdots &  \\ddots & \\vdots \\\\\n",
    "\\frac{\\partial f}{\\partial \\mathbf{A}_{n,1}} &  \\dots & \\frac{\\partial f}{\\partial \\mathbf{A}_{n,m}}\n",
    "\\end{bmatrix}\n",
    "\\end{equation*}\n",
    "\n",
    "Let $\\mathbf{X} \\in \\mathbb{R}^{N\\times d}$ be a matrix (sometimes also called the *design matrix*) whose rows are the observations of the dataset and let $\\mathbf{y} \\in \\mathbb{R}^{N}$ be the vector consisting of all values $y^{(i)}$ (i.e., $\\mathbf{X}^{(i,:)} = \\mathbf{x}^{(i)}$ and $\\mathbf{y}^{(i)} = y^{(i)}$). It can be verified that: \n",
    "\n",
    "\\begin{equation}\n",
    "J(\\mathbf{w}) = \\frac{1}{N}(\\mathbf{X}\\mathbf{w} - \\mathbf{y})^{T}(\\mathbf{X}\\mathbf{w} - \\mathbf{y})\n",
    "\\end{equation}\n",
    "\n",
    "Using basic matrix derivative concepts we can compute the gradient of $J(\\mathbf{w})$ with respect to $\\mathbf{w}$:\n",
    "\n",
    "\\begin{equation}\n",
    "\\nabla_{\\mathbf{w}}J(\\mathbf{w}) = \\frac{2}{N} (\\mathbf{X}^{T}\\mathbf{X}\\mathbf{w} -\\mathbf{X}^{T}\\mathbf{y})   \n",
    "\\end{equation}\n",
    "\n",
    "Thus, when $\\nabla_{\\mathbf{w}}J(\\mathbf{w}) = 0$ we have \n",
    "\n",
    "\\begin{equation}\n",
    "\\mathbf{X}^{T}\\mathbf{X}\\mathbf{w} = \\mathbf{X}^{T}\\mathbf{y}\n",
    "\\end{equation}\n",
    "\n",
    "Hence,\n",
    "\n",
    "\\begin{equation}\n",
    "\\mathbf{w} = (\\mathbf{X}^{T}\\mathbf{X})^{-1}\\mathbf{X}^{T}\\mathbf{y}\n",
    "\\end{equation}\n",
    "\n",
    "Note that this solution has a high computational cost. As the number of variables (*features*) increases, the cost for matrix inversion becomes prohibitive. See  [this text](https://sgfin.github.io/files/notes/CS229_Lecture_Notes.pdf) for more details."
   ]
  },
  {
   "cell_type": "markdown",
   "metadata": {},
   "source": [
    "# <mark>Exercise 1</mark>\n",
    "Using only **NumPy** (a quick introduction to this library can be found  [here](http://cs231n.github.io/python-numpy-tutorial/)), complete the two functions below. Recall that $\\mathbf{X} \\in \\mathbb{R}^{N\\times d}$; thus you will need to add a component of value 1 to each of  the observations in $\\mathbf{X}$ before performing the computation described above.\n",
    "\n",
    "NOTE: Although the dataset above has data of dimension $d=1$, your code must be generic (it should work for $d\\geq1$)"
   ]
  },
  {
   "cell_type": "markdown",
   "metadata": {},
   "source": [
    "## <mark>1.1. Weight computation function</mark>"
   ]
  },
  {
   "cell_type": "code",
   "execution_count": 7,
   "metadata": {},
   "outputs": [],
   "source": [
    "def normal_equation_weights(X, y):\n",
    "    \"\"\"\n",
    "    Calculates the weights of a linear function using the normal equation method.\n",
    "    You should add into X a new column with 1s.\n",
    "\n",
    "    :param X: design matrix\n",
    "    :type X: np.ndarray(shape=(N, d))\n",
    "    :param y: regression targets\n",
    "    :type y: np.ndarray(shape=(N, 1))\n",
    "    :return: weight vector\n",
    "    :rtype: np.ndarray(shape=(d+1, 1))\n",
    "    \"\"\"\n",
    "    \n",
    "    # START OF YOUR CODE:\n",
    "    #raise NotImplementedError(\"Function normal_equation_weights() is not implemented\")\n",
    "\n",
    "    import numpy as np\n",
    "    from numpy.linalg import inv\n",
    "    N = X.shape[0]\n",
    "    #d = X.shape[1]\n",
    "    \n",
    "    X_0 = np.ones((N,1))\n",
    "    X_til = np.append(X_0, X, axis=1)\n",
    "    X_til = X_til.astype(\"float32\")\n",
    "    X_t = X_til.T\n",
    "    \n",
    "    X_a = np.matmul(X_t, X_til)\n",
    "    X_b = inv(X_a)\n",
    "    X_c = np.matmul(X_b, X_t)\n",
    "    w   = np.matmul(X_c, y)\n",
    "    \n",
    "    return(w)\n",
    "\n",
    "    # END OF YOUR CODE\n",
    "    "
   ]
  },
  {
   "cell_type": "code",
   "execution_count": 8,
   "metadata": {},
   "outputs": [
    {
     "name": "stdout",
     "output_type": "stream",
     "text": [
      "Estimated w =\n",
      " [[11576.744   ]\n",
      " [   50.710564]]\n"
     ]
    }
   ],
   "source": [
    "# test of function normal_equation_weights()\n",
    "\n",
    "w = 0  # this is not necessary\n",
    "w = normal_equation_weights(X, y)\n",
    "print(\"Estimated w =\\n\", w)"
   ]
  },
  {
   "cell_type": "markdown",
   "metadata": {},
   "source": [
    "## <mark>1.2. Prediction function</mark>"
   ]
  },
  {
   "cell_type": "code",
   "execution_count": 9,
   "metadata": {},
   "outputs": [],
   "source": [
    "def normal_equation_prediction(X, w):\n",
    "    \"\"\"\n",
    "    Calculates the prediction over a set of observations X using the linear function\n",
    "    characterized by the weight vector w.\n",
    "    You should add into X a new column with 1s.\n",
    "\n",
    "    :param X: design matrix\n",
    "    :type X: np.ndarray(shape=(N, d))\n",
    "    :param w: weight vector\n",
    "    :type w: np.ndarray(shape=(d+1, 1))\n",
    "    :param y: regression prediction\n",
    "    :type y: np.ndarray(shape=(N, 1))\n",
    "    \"\"\"\n",
    "    \n",
    "    # START OF YOUR CODE:\n",
    "    #raise NotImplementedError(\"Function normal_equation_prediction() is not implemented\")\n",
    "    \n",
    "    N = X.shape[0]\n",
    "    #d = X.shape[1]\n",
    "    \n",
    "    X_0 = np.ones((N,1))                # false X_0 coordinate\n",
    "    X_til = np.append(X_0, X, axis=1)   # insert false coordinate to X\n",
    "    X_til = X_til.astype(\"float32\")\n",
    "\n",
    "    y_hat = np.matmul(X_til, w)\n",
    "        \n",
    "    return(y_hat)\n",
    "\n",
    "    # END OF YOUR CODE\n"
   ]
  },
  {
   "cell_type": "markdown",
   "metadata": {},
   "source": [
    "## <mark>1.3. Coefficient of determination</mark>\n",
    "We can use the [$R^2$](https://pt.wikipedia.org/wiki/R%C2%B2) metric (Coefficient of determination) to evaluate how well the linear model fits the data.\n",
    "\n",
    "**Which $𝑅^2$ value would you expect to observe ?**"
   ]
  },
  {
   "cell_type": "code",
   "execution_count": 10,
   "metadata": {},
   "outputs": [
    {
     "data": {
      "image/png": "[encoded data removed]",
      "text/plain": [
       "<Figure size 576x576 with 1 Axes>"
      ]
     },
     "metadata": {
      "needs_background": "light"
     },
     "output_type": "display_data"
    }
   ],
   "source": [
    "from sklearn.metrics import r2_score\n",
    "\n",
    "# test of function normal_equation_prediction()\n",
    "prediction = normal_equation_prediction(X, w)\n",
    "\n",
    "# compute the R2 score using the r2_score function from sklearn\n",
    "# Replace 0 with an appropriate call of the function\n",
    "\n",
    "# START OF YOUR CODE:\n",
    "#r_2 = 0\n",
    "r_2 = r2_score(y_true=y,\n",
    "               y_pred=prediction)\n",
    "\n",
    "# END OF YOUR CODE\n",
    "\n",
    "plot_points_regression(X,\n",
    "                       y,\n",
    "                       title='Real estate prices prediction',\n",
    "                       xlabel=\"m\\u00b2\",\n",
    "                       ylabel='$',\n",
    "                       prediction=prediction,\n",
    "                       legend=True,\n",
    "                       r_squared=r_2)"
   ]
  },
  {
   "cell_type": "markdown",
   "metadata": {},
   "source": [
    "## Additional tests\n",
    "\n",
    "Let us compute a prediction for $x=650$\n"
   ]
  },
  {
   "cell_type": "code",
   "execution_count": 11,
   "metadata": {},
   "outputs": [
    {
     "name": "stdout",
     "output_type": "stream",
     "text": [
      "Area = 650.00  Predicted price = 44538.6094\n"
     ]
    }
   ],
   "source": [
    "# Let us use the prediction function\n",
    "x = np.asarray([650]).reshape(1,1)\n",
    "prediction = normal_equation_prediction(x, w)\n",
    "print(\"Area = %.2f  Predicted price = %.4f\" %(x[0], prediction))"
   ]
  },
  {
   "cell_type": "markdown",
   "metadata": {},
   "source": [
    "## <mark>1.4. Processing time</mark>\n",
    "\n",
    "Experiment with different nummber of samples $N$ and observe how processing time varies.\n",
    "\n",
    "Be careful not to use a too large value; it may make jupyter freeze ..."
   ]
  },
  {
   "cell_type": "code",
   "execution_count": 12,
   "metadata": {},
   "outputs": [
    {
     "name": "stdout",
     "output_type": "stream",
     "text": [
      "\n",
      "X shape = (100, 1)\n",
      "y shape = (100, 1)\n",
      "\n",
      "X: mean 645.0, sdt 323.65, max 1200.00, min 90.00\n",
      "y: mean 43433.98, sdt 16968.97, max 72276.54, min 12791.66\n",
      "\n",
      "Execution time = 0.00057817(s)\n",
      "\n",
      "\n",
      "X shape = (1000, 1)\n",
      "y shape = (1000, 1)\n",
      "\n",
      "X: mean 645.0, sdt 320.75, max 1200.00, min 90.00\n",
      "y: mean 44194.78, sdt 16447.40, max 79409.21, min 7385.12\n",
      "\n",
      "Execution time = 0.00060511(s)\n",
      "\n",
      "\n",
      "X shape = (10000, 1)\n",
      "y shape = (10000, 1)\n",
      "\n",
      "X: mean 645.0000610351562, sdt 320.46, max 1200.00, min 90.00\n",
      "y: mean 44315.19, sdt 16549.44, max 81763.80, min 5761.41\n",
      "\n",
      "Execution time = 0.00581694(s)\n",
      "\n",
      "\n",
      "X shape = (100000, 1)\n",
      "y shape = (100000, 1)\n",
      "\n",
      "X: mean 645.0000610351562, sdt 320.43, max 1200.00, min 90.00\n",
      "y: mean 44247.20, sdt 16534.07, max 85372.46, min 4653.49\n",
      "\n",
      "Execution time = 0.00317264(s)\n",
      "\n"
     ]
    }
   ],
   "source": [
    "# Add other values for N\n",
    "# START OF YOUR CODE:\n",
    "N = [100, 1000, 10000, 100000] \n",
    "# END OF YOUR CODE\n",
    "\n",
    "for i in N:\n",
    "    X, y = get_housing_prices_data(N=i)\n",
    "    init = time.time()\n",
    "    w = normal_equation_weights(X, y)\n",
    "    prediction = normal_equation_prediction(X,w)\n",
    "    init = time.time() - init\n",
    "    \n",
    "    print(\"\\nExecution time = {:.8f}(s)\\n\".format(init))"
   ]
  },
  {
   "cell_type": "markdown",
   "metadata": {},
   "source": [
    "# <mark>Exercise 2</mark>\n",
    "\n",
    "Let us test the code with $𝑑>1$. \n",
    "We will use the data we have collected in our first class. The [file](https://edisciplinas.usp.br/pluginfile.php/5982803/course/section/6115454/QT1data.csv) can be found on e-disciplinas. \n",
    "\n",
    "Let us try to predict the weight based on one or more features."
   ]
  },
  {
   "cell_type": "code",
   "execution_count": 13,
   "metadata": {},
   "outputs": [
    {
     "data": {
      "text/html": [
       "<div>\n",
       "<style scoped>\n",
       "    .dataframe tbody tr th:only-of-type {\n",
       "        vertical-align: middle;\n",
       "    }\n",
       "\n",
       "    .dataframe tbody tr th {\n",
       "        vertical-align: top;\n",
       "    }\n",
       "\n",
       "    .dataframe thead th {\n",
       "        text-align: right;\n",
       "    }\n",
       "</style>\n",
       "<table border=\"1\" class=\"dataframe\">\n",
       "  <thead>\n",
       "    <tr style=\"text-align: right;\">\n",
       "      <th></th>\n",
       "      <th>Sex</th>\n",
       "      <th>Age</th>\n",
       "      <th>Height</th>\n",
       "      <th>Weight</th>\n",
       "      <th>Shoe number</th>\n",
       "      <th>Trouser number</th>\n",
       "    </tr>\n",
       "  </thead>\n",
       "  <tbody>\n",
       "    <tr>\n",
       "      <th>0</th>\n",
       "      <td>Female</td>\n",
       "      <td>53</td>\n",
       "      <td>154</td>\n",
       "      <td>59</td>\n",
       "      <td>36</td>\n",
       "      <td>40</td>\n",
       "    </tr>\n",
       "    <tr>\n",
       "      <th>1</th>\n",
       "      <td>Male</td>\n",
       "      <td>23</td>\n",
       "      <td>170</td>\n",
       "      <td>56</td>\n",
       "      <td>40</td>\n",
       "      <td>38</td>\n",
       "    </tr>\n",
       "    <tr>\n",
       "      <th>2</th>\n",
       "      <td>Female</td>\n",
       "      <td>23</td>\n",
       "      <td>167</td>\n",
       "      <td>63</td>\n",
       "      <td>37</td>\n",
       "      <td>40</td>\n",
       "    </tr>\n",
       "    <tr>\n",
       "      <th>3</th>\n",
       "      <td>Male</td>\n",
       "      <td>21</td>\n",
       "      <td>178</td>\n",
       "      <td>78</td>\n",
       "      <td>40</td>\n",
       "      <td>40</td>\n",
       "    </tr>\n",
       "    <tr>\n",
       "      <th>4</th>\n",
       "      <td>Female</td>\n",
       "      <td>25</td>\n",
       "      <td>153</td>\n",
       "      <td>58</td>\n",
       "      <td>36</td>\n",
       "      <td>38</td>\n",
       "    </tr>\n",
       "  </tbody>\n",
       "</table>\n",
       "</div>"
      ],
      "text/plain": [
       "      Sex  Age  Height  Weight  Shoe number Trouser number\n",
       "0  Female   53     154      59           36             40\n",
       "1    Male   23     170      56           40             38\n",
       "2  Female   23     167      63           37             40\n",
       "3    Male   21     178      78           40             40\n",
       "4  Female   25     153      58           36             38"
      ]
     },
     "execution_count": 13,
     "metadata": {},
     "output_type": "execute_result"
    }
   ],
   "source": [
    "import pandas as pd\n",
    "\n",
    "# load the dataset\n",
    "\"\"\"\n",
    "df = pd.read_csv('QT1data.csv')\n",
    "df.head()\n",
    "\"\"\"\n",
    "df = pd.read_csv('QT1data.csv')\n",
    "f = df.iloc[:,5].str.isnumeric()\n",
    "df = df[f]\n",
    "df.head()\n"
   ]
  },
  {
   "cell_type": "code",
   "execution_count": 14,
   "metadata": {},
   "outputs": [
    {
     "data": {
      "text/html": [
       "<div>\n",
       "<style scoped>\n",
       "    .dataframe tbody tr th:only-of-type {\n",
       "        vertical-align: middle;\n",
       "    }\n",
       "\n",
       "    .dataframe tbody tr th {\n",
       "        vertical-align: top;\n",
       "    }\n",
       "\n",
       "    .dataframe thead th {\n",
       "        text-align: right;\n",
       "    }\n",
       "</style>\n",
       "<table border=\"1\" class=\"dataframe\">\n",
       "  <thead>\n",
       "    <tr style=\"text-align: right;\">\n",
       "      <th></th>\n",
       "      <th>Age</th>\n",
       "      <th>Height</th>\n",
       "      <th>Weight</th>\n",
       "      <th>Shoe number</th>\n",
       "    </tr>\n",
       "  </thead>\n",
       "  <tbody>\n",
       "    <tr>\n",
       "      <th>count</th>\n",
       "      <td>127.000000</td>\n",
       "      <td>127.000000</td>\n",
       "      <td>127.000000</td>\n",
       "      <td>127.000000</td>\n",
       "    </tr>\n",
       "    <tr>\n",
       "      <th>mean</th>\n",
       "      <td>28.338583</td>\n",
       "      <td>170.677165</td>\n",
       "      <td>70.055118</td>\n",
       "      <td>39.496063</td>\n",
       "    </tr>\n",
       "    <tr>\n",
       "      <th>std</th>\n",
       "      <td>12.491407</td>\n",
       "      <td>11.676106</td>\n",
       "      <td>15.598793</td>\n",
       "      <td>2.999667</td>\n",
       "    </tr>\n",
       "    <tr>\n",
       "      <th>min</th>\n",
       "      <td>3.000000</td>\n",
       "      <td>100.000000</td>\n",
       "      <td>15.000000</td>\n",
       "      <td>24.000000</td>\n",
       "    </tr>\n",
       "    <tr>\n",
       "      <th>25%</th>\n",
       "      <td>21.000000</td>\n",
       "      <td>164.500000</td>\n",
       "      <td>60.000000</td>\n",
       "      <td>37.500000</td>\n",
       "    </tr>\n",
       "    <tr>\n",
       "      <th>50%</th>\n",
       "      <td>23.000000</td>\n",
       "      <td>172.000000</td>\n",
       "      <td>69.000000</td>\n",
       "      <td>40.000000</td>\n",
       "    </tr>\n",
       "    <tr>\n",
       "      <th>75%</th>\n",
       "      <td>29.000000</td>\n",
       "      <td>178.000000</td>\n",
       "      <td>80.000000</td>\n",
       "      <td>41.000000</td>\n",
       "    </tr>\n",
       "    <tr>\n",
       "      <th>max</th>\n",
       "      <td>62.000000</td>\n",
       "      <td>194.000000</td>\n",
       "      <td>130.000000</td>\n",
       "      <td>46.000000</td>\n",
       "    </tr>\n",
       "  </tbody>\n",
       "</table>\n",
       "</div>"
      ],
      "text/plain": [
       "              Age      Height      Weight  Shoe number\n",
       "count  127.000000  127.000000  127.000000   127.000000\n",
       "mean    28.338583  170.677165   70.055118    39.496063\n",
       "std     12.491407   11.676106   15.598793     2.999667\n",
       "min      3.000000  100.000000   15.000000    24.000000\n",
       "25%     21.000000  164.500000   60.000000    37.500000\n",
       "50%     23.000000  172.000000   69.000000    40.000000\n",
       "75%     29.000000  178.000000   80.000000    41.000000\n",
       "max     62.000000  194.000000  130.000000    46.000000"
      ]
     },
     "execution_count": 14,
     "metadata": {},
     "output_type": "execute_result"
    }
   ],
   "source": [
    "df.describe()"
   ]
  },
  {
   "cell_type": "code",
   "execution_count": 15,
   "metadata": {},
   "outputs": [
    {
     "name": "stdout",
     "output_type": "stream",
     "text": [
      "[ 59  56  63  78  58  89  68  83  70  56  65  66  78  75  47  68  65  99\n",
      "  80  62  60  84  91  60  15  85  56  62  69  78  60  48  66  85 101  74\n",
      "  52  52  80  72  75  61  74  70  90  66  79  80  65  69  58  63  62  73\n",
      "  55  65  62  75  48  59  74  80  51  90  58 117  77  75  56  50  67  93\n",
      "  70  76  85  50  86  96  63  56  90  95 130  70  83  70  64  57  54  69\n",
      "  53  28  62  68  73  54  75  85  62  69  55  82  84  52  64  73  86  77\n",
      "  64  65  55  50  98  77  51  83  61  80  81  76  78  70  75  72  80  90\n",
      "  53]\n"
     ]
    }
   ],
   "source": [
    "# Our target variable is the weight\n",
    "y = df.pop('Weight').values\n",
    "print(y)\n",
    "y = y.reshape((y.shape[0], 1))"
   ]
  },
  {
   "cell_type": "markdown",
   "metadata": {},
   "source": [
    "## <mark>2.1. One feature ($d=1$)</mark>\n",
    "\n",
    "We will use 'Height' as the input feature and predict the weight"
   ]
  },
  {
   "cell_type": "code",
   "execution_count": 16,
   "metadata": {},
   "outputs": [
    {
     "data": {
      "text/plain": [
       "(127, 1)"
      ]
     },
     "execution_count": 16,
     "metadata": {},
     "output_type": "execute_result"
    }
   ],
   "source": [
    "feature_cols = ['Height']\n",
    "X = df.loc[:, feature_cols]\n",
    "X.shape"
   ]
  },
  {
   "cell_type": "markdown",
   "metadata": {},
   "source": [
    "Write the code for computing the following\n",
    "- compute the regression weights using $\\mathbf{X}$ and $\\mathbf{y}$\n",
    "- compute the prediction\n",
    "- compute the $R^2$ value\n",
    "- plot the regression graph (use appropriate values for the parameters of function <tt>plot_points_regression()</tt>)"
   ]
  },
  {
   "cell_type": "code",
   "execution_count": 17,
   "metadata": {},
   "outputs": [
    {
     "name": "stdout",
     "output_type": "stream",
     "text": [
      "Estimated w =\n",
      " [[-78.53947169]\n",
      " [  0.87061943]] \n",
      "\n",
      "Predicted Y =\n",
      " [[55.53592023 69.46583108 66.85397279 76.4307865  54.6653008  78.17202536\n",
      "  80.78388364 72.94830879 60.7596368  57.27715908 69.46583108 80.78388364\n",
      "  78.17202536 72.07768936 53.79468137 78.17202536 71.20706993 75.56016707\n",
      "  74.68954765 64.24211451 69.46583108 78.17202536 90.36069735 67.72459222\n",
      "   8.52247111 76.4307865  63.37149508 70.3364505  79.91326421 56.40653966\n",
      "  76.4307865  59.01839794 69.46583108 75.56016707 71.20706993 78.17202536\n",
      "  64.24211451 59.01839794 71.20706993 65.98335336 67.72459222 68.59521165\n",
      "  88.61945849 65.98335336 83.39574193 72.94830879 72.07768936 72.07768936\n",
      "  60.7596368  66.85397279 70.3364505  69.46583108 77.30140593 62.50087565\n",
      "  61.63025622 58.14777851 63.37149508 67.72459222 56.40653966 64.24211451\n",
      "  80.78388364 83.39574193 72.07768936 82.5251225  56.40653966 70.3364505\n",
      "  80.78388364 72.94830879 72.94830879 56.40653966 65.11273394 69.46583108\n",
      "  71.20706993 79.04264479 76.4307865  60.7596368  71.20706993 71.20706993\n",
      "  63.37149508 64.24211451 71.20706993 69.46583108 86.87821964 74.68954765\n",
      "  86.87821964 68.59521165 72.07768936 64.24211451 72.07768936 71.20706993\n",
      "  74.68954765 32.8998151  61.63025622 69.46583108 73.81892822 52.05344252\n",
      "  80.78388364 78.17202536 74.68954765 66.85397279 78.17202536 81.65450307\n",
      "  78.17202536 72.94830879 64.24211451 73.81892822 78.17202536 74.68954765\n",
      "  77.30140593 78.17202536 58.14777851 59.01839794 80.78388364 70.3364505\n",
      "  73.81892822 73.81892822 67.72459222 69.46583108 69.46583108 79.04264479\n",
      "  73.81892822 69.46583108 71.20706993 72.07768936 72.94830879 80.78388364\n",
      "  62.50087565]] \n",
      "\n",
      "R2 score =\n",
      " 0.4246868167699872 \n",
      "\n"
     ]
    },
    {
     "data": {
      "image/png": "[encoded data removed]",
      "text/plain": [
       "<Figure size 576x576 with 1 Axes>"
      ]
     },
     "metadata": {
      "needs_background": "light"
     },
     "output_type": "display_data"
    }
   ],
   "source": [
    "# START OF YOUR CODE:\n",
    "\n",
    "w = normal_equation_weights(X, y)\n",
    "print(\"Estimated w =\\n\", w, \"\\n\")\n",
    "\n",
    "prediction = normal_equation_prediction(X, w)\n",
    "print(\"Predicted Y =\\n\", prediction.T, \"\\n\")\n",
    "\n",
    "r_2 = r2_score(y_true=y,\n",
    "               y_pred=prediction)\n",
    "print(\"R2 score =\\n\", r_2, \"\\n\")\n",
    "\n",
    "plot_points_regression(X,\n",
    "                       y,\n",
    "                       title='Weight prediction',\n",
    "                       xlabel=\"height (cm)\",\n",
    "                       ylabel='weight (Kg)',\n",
    "                       prediction=prediction,\n",
    "                       legend=True,\n",
    "                       r_squared=r_2)\n",
    "\n",
    "# END OF YOUR CODE"
   ]
  },
  {
   "cell_type": "markdown",
   "metadata": {},
   "source": [
    "## <mark>2.2 - Two input features ($d=2$)</mark>\n",
    "\n",
    "Now repeat the exercise with using as input the features 'Height' and 'Shoe number'\n",
    "\n",
    "- compute the regression weights using $\\mathbf{X}$ and $\\mathbf{y}$\n",
    "- compute the prediction\n",
    "- compute and print the $R^2$ value\n",
    "\n",
    "Note that our plotting function can not be used. There is no need to do plotting here."
   ]
  },
  {
   "cell_type": "code",
   "execution_count": 18,
   "metadata": {},
   "outputs": [
    {
     "name": "stdout",
     "output_type": "stream",
     "text": [
      "Estimated w =\n",
      " [[-80.41994085]\n",
      " [  0.41442077]\n",
      " [  2.01892624]] \n",
      "\n",
      "Predicted Y =\n",
      " [[56.08220282 70.78864015 63.48859911 74.10400633 55.66778205 80.9896266\n",
      "  80.21396267 72.44632324 60.5876537  56.91104437 64.73186143 76.17611019\n",
      "  76.95177412 72.03190247 51.21550879 74.93284788 71.61748169 77.72743804\n",
      "  73.27516478 60.22641055 62.71293519 78.97070036 90.8293699  69.9597986\n",
      "   9.4763662  80.16078505 63.84984226 73.22198716 75.76168942 54.47769735\n",
      "  74.10400633 57.73988591 66.75078767 79.74636428 71.61748169 78.97070036\n",
      "  62.24533679 55.72095967 73.63640793 73.16880954 67.94087236 66.33636689\n",
      "  87.98160211 71.1498833  85.49507747 72.44632324 76.06975495 70.01297622\n",
      "  56.54980122 59.45074663 71.20306092 70.78864015 78.55627958 71.51112645\n",
      "  58.98314823 57.32546514 61.83091602 69.9597986  52.45877111 60.22641055\n",
      "  74.15718395 85.49507747 76.06975495 85.0806567  58.51554983 73.22198716\n",
      "  78.19503643 72.44632324 70.427397   58.51554983 62.65975756 70.78864015\n",
      "  73.63640793 75.34726865 74.10400633 62.60657994 69.59855545 67.57962921\n",
      "  63.84984226 62.24533679 71.61748169 70.78864015 91.19061305 75.29409102\n",
      "  91.19061305 74.41207186 72.03190247 62.24533679 72.03190247 67.57962921\n",
      "  73.27516478 39.25048401 58.98314823 70.78864015 70.84181777 54.42451973\n",
      "  80.21396267 80.9896266  75.29409102 63.48859911 78.97070036 84.66623593\n",
      "  80.9896266  72.44632324 64.26426303 74.87967025 80.9896266  75.29409102\n",
      "  74.5184271  76.95177412 55.3065389  57.73988591 84.25181516 73.22198716\n",
      "  78.91752273 74.87967025 67.94087236 70.78864015 70.78864015 79.38512113\n",
      "  72.86074401 68.76971391 73.63640793 67.99404998 70.427397   80.21396267\n",
      "  65.45434772]] \n",
      "\n",
      "R2 score =\n",
      " 0.45882207473773307 \n",
      "\n"
     ]
    }
   ],
   "source": [
    "# START OF YOUR CODE:\n",
    "\n",
    "feature_cols = ['Height', 'Shoe number']\n",
    "X = df.loc[:, feature_cols]\n",
    "X.shape\n",
    "\n",
    "w = normal_equation_weights(X, y)\n",
    "print(\"Estimated w =\\n\", w, \"\\n\")\n",
    "\n",
    "prediction = normal_equation_prediction(X, w)\n",
    "print(\"Predicted Y =\\n\", prediction.T, \"\\n\")\n",
    "\n",
    "r_2 = r2_score(y_true=y,\n",
    "               y_pred=prediction)\n",
    "print(\"R2 score =\\n\", r_2, \"\\n\")\n",
    "\n",
    "# END OF YOUR CODE"
   ]
  },
  {
   "cell_type": "markdown",
   "metadata": {},
   "source": [
    "## 2.3 - <mark>Three input features ($d=3$)</mark>\n",
    "\n",
    "Now try with three features. There is no need to do plotting here.\n",
    "- compute the regression weights using $\\mathbf{X}$ and $\\mathbf{y}$\n",
    "- compute the prediction\n",
    "- compute and print the $R^2$ value"
   ]
  },
  {
   "cell_type": "code",
   "execution_count": 19,
   "metadata": {},
   "outputs": [
    {
     "name": "stdout",
     "output_type": "stream",
     "text": [
      "Estimated w =\n",
      " [[-7.38746006e+01]\n",
      " [ 1.54657761e+00]\n",
      " [-2.74028860e-02]\n",
      " [ 1.58860114e+00]\n",
      " [ 1.13128987e-01]] \n",
      "\n",
      "Predicted Y =\n",
      " [[ 61.31574978  66.95700831  65.1550908   71.09404825  58.79269933\n",
      "   85.29982568  71.52084036  76.69450511  67.51298728  62.39149722\n",
      "   65.43967199  74.61767237  72.7298694   73.73300848  49.1772048\n",
      "   68.14310395  70.16864836  80.42847903  70.73077585  59.2150316\n",
      "   60.38705747  74.38605856  83.70459081  71.55135952   6.24597474\n",
      "   83.29314636  59.78513637  73.9024069   68.28715327  66.8395692\n",
      "   67.8620402   56.3455593   63.78164443  84.13835213  88.71120717\n",
      "   74.24904413  71.19751128  54.77157881  81.46605588  78.96483709\n",
      "   68.41618078  60.65573049  82.06876966  71.36528668  87.47037143\n",
      "   69.02552828  73.59415565  72.02201355  57.18853516  65.23913786\n",
      "   73.50675051  66.95700831  77.50493762  71.25362135  59.69773122\n",
      "   64.72272747  64.78478351  73.13996066  49.68100908  56.83251302\n",
      "   66.9359133   87.74440029  68.91056089 100.1482602   57.36092975\n",
      "   81.35292689  76.38347307  70.61412942  65.94515531  60.72995223\n",
      "   64.21635779  76.54342091  71.79743462  68.25623294  80.24201467\n",
      "   68.15526965  78.15367757  79.37325895  65.26264856  61.58369579\n",
      "   60.91107039  82.15794754  91.23526568  72.41436789  87.89364609\n",
      "   76.40105064  67.13197795  62.26800169  67.37860393  67.21250757\n",
      "   64.54078861  10.48696132  59.53331391  76.54342091  74.54858145\n",
      "   57.54901713  74.72544552  85.38203433  69.18235984  70.60520011\n",
      "   74.38605856  65.03110042  88.64144527  64.25972487  63.02066186\n",
      "   72.32864179  85.54645165  75.61897305  71.23458012  72.83948095\n",
      "   56.95875974  59.46795581  87.29540179  74.99852234  75.33958835\n",
      "   78.68304634  52.5301694   70.13421059  73.31141286  84.05819726\n",
      "   73.38380585  65.46523647  75.08424844  70.50283883  77.77707205\n",
      "   92.91176682  61.3830023 ]] \n",
      "\n",
      "R2 score =\n",
      " 0.6167168574927072 \n",
      "\n"
     ]
    }
   ],
   "source": [
    "# START OF YOUR CODE:\n",
    "\n",
    "feature_cols = ['Shoe number', 'Age', 'Trouser number', 'Height']\n",
    "X = df.loc[:, feature_cols]\n",
    "X.shape\n",
    "\n",
    "w = normal_equation_weights(X, y)\n",
    "print(\"Estimated w =\\n\", w, \"\\n\")\n",
    "\n",
    "prediction = normal_equation_prediction(X, w)\n",
    "print(\"Predicted Y =\\n\", prediction.T, \"\\n\")\n",
    "\n",
    "r_2 = r2_score(y_true=y,\n",
    "               y_pred=prediction)\n",
    "print(\"R2 score =\\n\", r_2, \"\\n\")\n",
    "\n",
    "# END OF YOUR CODE"
   ]
  },
  {
   "cell_type": "markdown",
   "metadata": {},
   "source": [
    "## <mark>2.4 - Your comments</mark>\n",
    "\n",
    "Did you observe anything interesting with varying values of $d$ ? Comment about it.\n",
    "\n",
    "YOUR COMMENT BELOW:\n",
    "\n",
    "===>\n",
    "\n",
    "Sex is a predictor not usable \"as is\", due to the fact it is not numeric (needs conversion to e.g. a binary equivalent)\n",
    "\n",
    "When predictors 'Shoe Number' and 'Trouser' are used simultaneously, the highest correlation ~ 0.62 was obtained\n",
    "\n"
   ]
  },
  {
   "cell_type": "code",
   "execution_count": null,
   "metadata": {},
   "outputs": [],
   "source": []
  }
 ],
 "metadata": {
  "kernelspec": {
   "display_name": "Python 3",
   "language": "python",
   "name": "python3"
  },
  "language_info": {
   "codemirror_mode": {
    "name": "ipython",
    "version": 3
   },
   "file_extension": ".py",
   "mimetype": "text/x-python",
   "name": "python",
   "nbconvert_exporter": "python",
   "pygments_lexer": "ipython3",
   "version": "3.8.10"
  }
 },
 "nbformat": 4,
 "nbformat_minor": 4
}
