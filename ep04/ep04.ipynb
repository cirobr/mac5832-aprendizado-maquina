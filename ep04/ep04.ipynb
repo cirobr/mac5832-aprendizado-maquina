{
 "cells": [
  {
   "cell_type": "code",
   "execution_count": null,
   "metadata": {
    "colab": {
     "base_uri": "https://localhost:8080/"
    },
    "executionInfo": {
     "elapsed": 361,
     "status": "ok",
     "timestamp": 1625340129787,
     "user": {
      "displayName": "Ciro Batista Rosa",
      "photoUrl": "https://lh3.googleusercontent.com/a-/AOh14GgIDY6zWcb4ZsYOEq76CKwmEYmV2o8kRAKi2ezkUw=s64",
      "userId": "06363358031992547489"
     },
     "user_tz": 180
    },
    "id": "dSUK_Qi8w1VS",
    "outputId": "d1e23da0-c5f0-4599-99a2-f845a66f124d"
   },
   "outputs": [
    {
     "name": "stdout",
     "output_type": "stream",
     "text": [
      "\n",
      "Name:  Ciro B Rosa\n",
      "\n",
      "Honor pledge:  I affirm that I have not given or received any unauthorized help on this assignment, and that this work is my own.\n",
      "\n"
     ]
    }
   ],
   "source": [
    "name = \"Ciro B Rosa\"  # write YOUR NAME\n",
    "\n",
    "honorPledge = \"I affirm that I have not given or received any unauthorized \" \\\n",
    "              \"help on this assignment, and that this work is my own.\\n\"\n",
    "\n",
    "\n",
    "print(\"\\nName: \", name)\n",
    "print(\"\\nHonor pledge: \", honorPledge)\n"
   ]
  },
  {
   "cell_type": "code",
   "execution_count": null,
   "metadata": {
    "id": "tyBiLhDLw1Vg",
    "scrolled": false
   },
   "outputs": [],
   "source": [
    "import numpy as np\n",
    "import matplotlib.pyplot as plt\n",
    "from tensorflow.keras.datasets import mnist\n",
    "\n",
    "%matplotlib inline"
   ]
  },
  {
   "cell_type": "code",
   "execution_count": null,
   "metadata": {
    "colab": {
     "base_uri": "https://localhost:8080/"
    },
    "executionInfo": {
     "elapsed": 511,
     "status": "ok",
     "timestamp": 1625340132469,
     "user": {
      "displayName": "Ciro Batista Rosa",
      "photoUrl": "https://lh3.googleusercontent.com/a-/AOh14GgIDY6zWcb4ZsYOEq76CKwmEYmV2o8kRAKi2ezkUw=s64",
      "userId": "06363358031992547489"
     },
     "user_tz": 180
    },
    "id": "SPXE7WI3w1Vp",
    "outputId": "a1bdb9a7-aa6c-46f0-cccb-55bdc7690182"
   },
   "outputs": [
    {
     "name": "stdout",
     "output_type": "stream",
     "text": [
      "(60000, 28, 28) (60000,)\n",
      "(10000, 28, 28) (10000,)\n"
     ]
    }
   ],
   "source": [
    "(X_train_ori, y_train_ori), (X_test_ori, y_test_ori) = mnist.load_data()\n",
    "\n",
    "print(X_train_ori.shape, y_train_ori.shape)\n",
    "print(X_test_ori.shape, y_test_ori.shape)"
   ]
  },
  {
   "cell_type": "code",
   "execution_count": null,
   "metadata": {
    "colab": {
     "base_uri": "https://localhost:8080/",
     "height": 295
    },
    "executionInfo": {
     "elapsed": 10,
     "status": "ok",
     "timestamp": 1625340132471,
     "user": {
      "displayName": "Ciro Batista Rosa",
      "photoUrl": "https://lh3.googleusercontent.com/a-/AOh14GgIDY6zWcb4ZsYOEq76CKwmEYmV2o8kRAKi2ezkUw=s64",
      "userId": "06363358031992547489"
     },
     "user_tz": 180
    },
    "id": "yFqd1wxqw1Vq",
    "outputId": "cdfeda6a-af5a-4143-cb8f-ada1203f08f6"
   },
   "outputs": [
    {
     "data": {
      "image/png": "[encoded data removed]",
      "text/plain": [
       "<Figure size 432x288 with 1 Axes>"
      ]
     },
     "metadata": {
      "needs_background": "light",
      "tags": []
     },
     "output_type": "display_data"
    }
   ],
   "source": [
    "labels = [\"%s\"%i for i in range(10)]\n",
    "\n",
    "unique, counts = np.unique(y_train_ori, return_counts=True)\n",
    "uniquet, countst = np.unique(y_test_ori, return_counts=True)\n",
    "\n",
    "fig, ax = plt.subplots()\n",
    "rects1 = ax.bar(unique - 0.2, counts, 0.25, label='Train')\n",
    "rects2 = ax.bar(unique + 0.2, countst, 0.25, label='Test')\n",
    "ax.legend()\n",
    "ax.set_xticks(unique)\n",
    "ax.set_xticklabels(labels)\n",
    "\n",
    "plt.title('MNIST classes')\n",
    "plt.xlabel('Class')\n",
    "plt.ylabel('Frequency')\n",
    "plt.show()"
   ]
  },
  {
   "cell_type": "code",
   "execution_count": null,
   "metadata": {
    "colab": {
     "base_uri": "https://localhost:8080/",
     "height": 373
    },
    "executionInfo": {
     "elapsed": 9,
     "status": "ok",
     "timestamp": 1625340132967,
     "user": {
      "displayName": "Ciro Batista Rosa",
      "photoUrl": "https://lh3.googleusercontent.com/a-/AOh14GgIDY6zWcb4ZsYOEq76CKwmEYmV2o8kRAKi2ezkUw=s64",
      "userId": "06363358031992547489"
     },
     "user_tz": 180
    },
    "id": "N_wOy92xw1Vr",
    "outputId": "50a56013-5d66-4d25-d90f-af7a8130c662"
   },
   "outputs": [
    {
     "data": {
      "image/png": "[encoded data removed]",
      "text/plain": [
       "<Figure size 648x432 with 6 Axes>"
      ]
     },
     "metadata": {
      "needs_background": "light",
      "tags": []
     },
     "output_type": "display_data"
    }
   ],
   "source": [
    "fig, ax = plt.subplots(2, 3, figsize = (9, 6))\n",
    "\n",
    "for i in range(6):\n",
    "    ax[i//3, i%3].imshow(X_train_ori[i], cmap='gray')\n",
    "    ax[i//3, i%3].axis('off')\n",
    "    ax[i//3, i%3].set_title(\"Class: %d\"%y_train_ori[i])\n",
    "    \n",
    "plt.show()"
   ]
  },
  {
   "cell_type": "code",
   "execution_count": null,
   "metadata": {
    "id": "lp_9ecmOw1Vr"
   },
   "outputs": [],
   "source": [
    "# Reduce the image size to its half \n",
    "X_train = np.array([image[::2, 1::2] for image in X_train_ori])\n",
    "X_test  = np.array([image[::2, 1::2] for image in X_test_ori])\n",
    "\n",
    "y_train = y_train_ori\n",
    "y_test = y_test_ori"
   ]
  },
  {
   "cell_type": "code",
   "execution_count": null,
   "metadata": {
    "colab": {
     "base_uri": "https://localhost:8080/",
     "height": 373
    },
    "executionInfo": {
     "elapsed": 396,
     "status": "ok",
     "timestamp": 1625340133357,
     "user": {
      "displayName": "Ciro Batista Rosa",
      "photoUrl": "https://lh3.googleusercontent.com/a-/AOh14GgIDY6zWcb4ZsYOEq76CKwmEYmV2o8kRAKi2ezkUw=s64",
      "userId": "06363358031992547489"
     },
     "user_tz": 180
    },
    "id": "Cjz9VyDAw1Vs",
    "outputId": "1d64ad4c-d957-4668-f2c1-de1f075936f0"
   },
   "outputs": [
    {
     "data": {
      "image/png": "[encoded data removed]",
      "text/plain": [
       "<Figure size 648x432 with 6 Axes>"
      ]
     },
     "metadata": {
      "needs_background": "light",
      "tags": []
     },
     "output_type": "display_data"
    }
   ],
   "source": [
    "fig, ax = plt.subplots(2, 3, figsize = (9, 6))\n",
    "\n",
    "for i in range(6):\n",
    "    ax[i//3, i%3].imshow(X_train[i], cmap='gray')\n",
    "    ax[i//3, i%3].axis('off')\n",
    "    ax[i//3, i%3].set_title(\"Class: %d\"%y_train_ori[i])\n",
    "    \n",
    "plt.show()"
   ]
  },
  {
   "cell_type": "code",
   "execution_count": null,
   "metadata": {
    "colab": {
     "base_uri": "https://localhost:8080/"
    },
    "executionInfo": {
     "elapsed": 22,
     "status": "ok",
     "timestamp": 1625340133362,
     "user": {
      "displayName": "Ciro Batista Rosa",
      "photoUrl": "https://lh3.googleusercontent.com/a-/AOh14GgIDY6zWcb4ZsYOEq76CKwmEYmV2o8kRAKi2ezkUw=s64",
      "userId": "06363358031992547489"
     },
     "user_tz": 180
    },
    "id": "oHmnx4eow1V0",
    "outputId": "4df9262e-ed5e-45ea-f695-276b07d90d4c"
   },
   "outputs": [
    {
     "name": "stdout",
     "output_type": "stream",
     "text": [
      "float32\n",
      "float32\n",
      "\n",
      "Shape of X_train:  (60000, 196)\n",
      "Shape of X_test:  (10000, 196)\n",
      "\n",
      "Minimum value in X_train: 0.0\n",
      "Maximum value in X_train: 1.0\n",
      "\n",
      "Minimum value in X_test: 0.0\n",
      "Maximum value in X_test: 1.0\n"
     ]
    }
   ],
   "source": [
    "X_train = (X_train/255.0).astype('float32').reshape((60000,14*14))\n",
    "X_test = (X_test/255.0).astype('float32').reshape((10000,14*14))\n",
    "\n",
    "print(X_train.dtype)\n",
    "print(X_test.dtype)\n",
    "\n",
    "print(\"\\nShape of X_train: \", X_train.shape)\n",
    "print(\"Shape of X_test: \", X_test.shape)\n",
    "\n",
    "print(\"\\nMinimum value in X_train:\", np.amin(X_train))\n",
    "print(\"Maximum value in X_train:\", np.amax(X_train))\n",
    "\n",
    "print(\"\\nMinimum value in X_test:\", np.amin(X_test))\n",
    "print(\"Maximum value in X_test:\", np.amax(X_test))\n"
   ]
  },
  {
   "cell_type": "markdown",
   "metadata": {
    "id": "-7h35Ki3w1V1"
   },
   "source": [
    "**1. Dataset preparation**"
   ]
  },
  {
   "cell_type": "markdown",
   "metadata": {
    "id": "rmI-uCOHw1V8"
   },
   "source": [
    "A seguir, o dataset de treinamento do MNIST é particionado na proporção 70/30 e nomeado como Dtrain e Dval respectivamente. Sua estratificação em cada uma das 10 classes também é demonstrada."
   ]
  },
  {
   "cell_type": "code",
   "execution_count": null,
   "metadata": {
    "colab": {
     "base_uri": "https://localhost:8080/",
     "height": 346
    },
    "executionInfo": {
     "elapsed": 507,
     "status": "ok",
     "timestamp": 1625340133852,
     "user": {
      "displayName": "Ciro Batista Rosa",
      "photoUrl": "https://lh3.googleusercontent.com/a-/AOh14GgIDY6zWcb4ZsYOEq76CKwmEYmV2o8kRAKi2ezkUw=s64",
      "userId": "06363358031992547489"
     },
     "user_tz": 180
    },
    "id": "jNIfiGoOw1V8",
    "outputId": "4777204c-bc0c-4a6f-d3e6-4baa91d3aea0"
   },
   "outputs": [
    {
     "name": "stdout",
     "output_type": "stream",
     "text": [
      "\n",
      "Shape of X_Dtrain:  (42000, 196)\n",
      "Shape of X_Dval:  (18000, 196)\n"
     ]
    },
    {
     "data": {
      "image/png": "[encoded data removed]",
      "text/plain": [
       "<Figure size 432x288 with 1 Axes>"
      ]
     },
     "metadata": {
      "needs_background": "light",
      "tags": []
     },
     "output_type": "display_data"
    }
   ],
   "source": [
    "from sklearn.model_selection import train_test_split\n",
    "\n",
    "seed = 42   # fix seed to make results repeatable\n",
    "X_Dtrain, X_Dval, y_Dtrain, y_Dval = train_test_split(X_train,\n",
    "                                                      y_train,\n",
    "                                                      test_size=0.30,\n",
    "                                                      random_state=seed)\n",
    "\n",
    "print(\"\\nShape of X_Dtrain: \", X_Dtrain.shape)\n",
    "print(\"Shape of X_Dval: \", X_Dval.shape)\n",
    "\n",
    "# check for stratification in Dtrain and Dval\n",
    "unique_t, counts_t = np.unique(y_Dtrain, return_counts=True)\n",
    "unique_v, counts_v = np.unique(y_Dval, return_counts=True)\n",
    "\n",
    "fig, ax = plt.subplots()\n",
    "rects1 = ax.bar(unique_t - 0.2, counts_t, 0.25, label='Dtrain')\n",
    "rects2 = ax.bar(unique_v + 0.2, counts_v, 0.25, label='Dval')\n",
    "ax.legend()\n",
    "ax.set_xticks(unique_t)\n",
    "ax.set_xticklabels(labels)\n",
    "\n",
    "plt.title('MNIST classes')\n",
    "plt.xlabel('Class')\n",
    "plt.ylabel('Frequency')\n",
    "plt.show()\n"
   ]
  },
  {
   "cell_type": "markdown",
   "metadata": {
    "id": "Cyj7WwPRw1V9"
   },
   "source": [
    "**2. Training, Evaluating and selecting models**"
   ]
  },
  {
   "cell_type": "markdown",
   "metadata": {
    "id": "J9XEsH9hw1V-"
   },
   "source": [
    "De modo que apenas Dtrain seja utilizado nesta etapa, toma-se uma decisão de projeto no sentido de uma nova divisão, criando-se Strain e Sval a partir de Dtrain na proporção de 70/30. Desta forma, o primeiro dataset é usado no treinamento, e o último na avaliação dos modelos."
   ]
  },
  {
   "cell_type": "code",
   "execution_count": null,
   "metadata": {
    "colab": {
     "base_uri": "https://localhost:8080/"
    },
    "executionInfo": {
     "elapsed": 14,
     "status": "ok",
     "timestamp": 1625340133853,
     "user": {
      "displayName": "Ciro Batista Rosa",
      "photoUrl": "https://lh3.googleusercontent.com/a-/AOh14GgIDY6zWcb4ZsYOEq76CKwmEYmV2o8kRAKi2ezkUw=s64",
      "userId": "06363358031992547489"
     },
     "user_tz": 180
    },
    "id": "DoUv3x0dw1V-",
    "outputId": "415e2de7-94b9-49f8-d38a-eff651da46d7"
   },
   "outputs": [
    {
     "name": "stdout",
     "output_type": "stream",
     "text": [
      "\n",
      "Shape of X_Strain:  (29400, 196)\n",
      "Shape of X_Sval:  (12600, 196)\n"
     ]
    }
   ],
   "source": [
    "# Dtrain split in 70 / 30\n",
    "X_Strain, X_Sval, y_Strain, y_Sval = train_test_split(X_Dtrain,\n",
    "                                                      y_Dtrain,\n",
    "                                                      test_size=0.30,\n",
    "                                                      random_state=seed)\n",
    "print(\"\\nShape of X_Strain: \", X_Strain.shape)\n",
    "print(\"Shape of X_Sval: \", X_Sval.shape)\n"
   ]
  },
  {
   "cell_type": "code",
   "execution_count": null,
   "metadata": {
    "colab": {
     "base_uri": "https://localhost:8080/",
     "height": 295
    },
    "executionInfo": {
     "elapsed": 258,
     "status": "ok",
     "timestamp": 1625340134102,
     "user": {
      "displayName": "Ciro Batista Rosa",
      "photoUrl": "https://lh3.googleusercontent.com/a-/AOh14GgIDY6zWcb4ZsYOEq76CKwmEYmV2o8kRAKi2ezkUw=s64",
      "userId": "06363358031992547489"
     },
     "user_tz": 180
    },
    "id": "cwPoy14Rw1V_",
    "outputId": "1f7642dd-479d-4b38-902a-4dc5aa8479ef"
   },
   "outputs": [
    {
     "data": {
      "image/png": "[encoded data removed]",
      "text/plain": [
       "<Figure size 432x288 with 1 Axes>"
      ]
     },
     "metadata": {
      "needs_background": "light",
      "tags": []
     },
     "output_type": "display_data"
    }
   ],
   "source": [
    "# check for stratification in Strain and Sval\n",
    "unique_t, counts_t = np.unique(y_Strain, return_counts=True)\n",
    "unique_v, counts_v = np.unique(y_Sval, return_counts=True)\n",
    "\n",
    "fig, ax = plt.subplots()\n",
    "rects1 = ax.bar(unique_t - 0.2, counts_t, 0.25, label='Strain')\n",
    "rects2 = ax.bar(unique_v + 0.2, counts_v, 0.25, label='Sval')\n",
    "ax.legend()\n",
    "ax.set_xticks(unique_t)\n",
    "ax.set_xticklabels(labels)\n",
    "\n",
    "plt.title('MNIST classes')\n",
    "plt.xlabel('Class')\n",
    "plt.ylabel('Frequency')\n",
    "plt.show()\n"
   ]
  },
  {
   "cell_type": "markdown",
   "metadata": {
    "id": "_uObLvfgw1WQ"
   },
   "source": [
    "Em seguida, inicia-se o processo de construção e análise dos três modelos propostos, a saber: Logistic Regression, Neural Network e SVM."
   ]
  },
  {
   "cell_type": "markdown",
   "metadata": {
    "id": "mnMD52Uew1WU"
   },
   "source": [
    "Declaração de bibliotecas:"
   ]
  },
  {
   "cell_type": "code",
   "execution_count": null,
   "metadata": {
    "id": "AmbR21apw1WW"
   },
   "outputs": [],
   "source": [
    "from sklearn.linear_model import LogisticRegression\n",
    "from sklearn.neural_network import MLPClassifier\n",
    "from sklearn.decomposition import PCA\n",
    "from sklearn.svm import SVC\n",
    "\n",
    "from sklearn.metrics import confusion_matrix\n",
    "from sklearn.metrics import classification_report\n",
    "from sklearn.metrics import f1_score\n",
    "\n",
    "from sklearn.model_selection import GridSearchCV\n",
    "import pandas as pd\n"
   ]
  },
  {
   "cell_type": "markdown",
   "metadata": {
    "id": "H1TBTwiJw1WW"
   },
   "source": [
    "Definição de critério de escolha do melhor modelo:\n",
    "\n",
    "Por decisão de projeto, adota-se o f1-score como parâmetro de otimização e avaliação de modelos, conforme as seguintes razões:\n",
    "* Popularidade;\n",
    "* Adequação ao problema de classificação;\n",
    "* Conveniencia de ser um medidor de número único, operando dentro do intervalo [0, 1], sendo 1 o melhor caso;\n",
    "* Por ser uma média harmônica entre Precision e Recall, traz o benefício de maximizar as detecções afirmativas TP e TN (True Positive e True Negative), porém de modo a minimizar de forma balanceada os falsos scores FP e FN (False Positive e False Negative).\n",
    "\n",
    "Mais detalhes em:\n",
    "\n",
    "https://en.wikipedia.org/wiki/F-score\n",
    "\n",
    "https://scikit-learn.org/stable/modules/generated/sklearn.metrics.f1_score.html\n",
    "\n",
    "A função a seguir imprime a avaliação de desempenho de determinado modelo, com base em:\n",
    "* Matriz de Confusão\n",
    "* Classification report, incluindo precision, recall e f1 para cada classe\n",
    "* f1-score global, o critério de avaliação escolhido"
   ]
  },
  {
   "cell_type": "code",
   "execution_count": null,
   "metadata": {
    "id": "TEexHdO3w1WX"
   },
   "outputs": [],
   "source": [
    "def print_report(y_true, y_hat):\n",
    "    cm = confusion_matrix(y_true, y_hat, labels = unique_t)\n",
    "    print(\"\\n\", cm)\n",
    "    \n",
    "    cr = classification_report(y_true, y_hat, labels = unique_t, digits=3)\n",
    "    print(\"\\n\", cr)\n",
    "    \n",
    "    f1 = f1_score(y_true, y_hat, labels = unique_t, average = \"micro\")\n",
    "    print(\"f1-score: \", format(f1, \".3f\"))\n",
    "    \n",
    "    return\n"
   ]
  },
  {
   "cell_type": "markdown",
   "metadata": {
    "id": "aqqWyG-lw1WY"
   },
   "source": [
    "**Treinamento de Modelos**\n",
    "\n",
    "A seguir, cada um dos três modelos são treinados com Strain em duas etapas (parâmetros default e otimizados por grid de parâmetros), e posteriormente avaliados, conforme critério estabelecido, com Sval.\n",
    "\n",
    "A adoção desta estratégia se dá pelos seguintes motivos:\n",
    "* Para se ganhar familiaridade com as diversas funções do Scikit-Learn a serem utilizadas, eliminando-se a complexidade inicial de uso dos hiperparâmetros;\n",
    "* Para se ter uma base de comparação com os modelos otimizados, estes com uso de hiperparâmetros, de modo que se observe a eficácia da otimização.\n",
    "\n",
    "Deve-se notar que o resultado da otimização por grid também inclui impressão da combinação de melhores parâmetros encontrados durante o processo."
   ]
  },
  {
   "cell_type": "markdown",
   "metadata": {
    "id": "N4oso2yww1WY"
   },
   "source": [
    "**2.1 Logistic Regression básico**"
   ]
  },
  {
   "cell_type": "code",
   "execution_count": null,
   "metadata": {
    "colab": {
     "base_uri": "https://localhost:8080/"
    },
    "executionInfo": {
     "elapsed": 24386,
     "status": "ok",
     "timestamp": 1625340158477,
     "user": {
      "displayName": "Ciro Batista Rosa",
      "photoUrl": "https://lh3.googleusercontent.com/a-/AOh14GgIDY6zWcb4ZsYOEq76CKwmEYmV2o8kRAKi2ezkUw=s64",
      "userId": "06363358031992547489"
     },
     "user_tz": 180
    },
    "id": "mF73o6Ldw1WZ",
    "outputId": "f901a6d0-3c55-45a8-b6c8-55cbacd1032f"
   },
   "outputs": [
    {
     "name": "stdout",
     "output_type": "stream",
     "text": [
      "\n",
      " [[1203    0    8    3    1    8    9    4    6    3]\n",
      " [   1 1408   11    5    1    6    2    5   19    2]\n",
      " [   9   10 1072   21   18    8   22   29   29    7]\n",
      " [   5   13   45 1101    1   64    7   11   22   16]\n",
      " [   0   10    6    0 1070    1   15    4    4   79]\n",
      " [  17    9   10   43   14 1000   28    5   31   10]\n",
      " [  12    5   15    2   11   12 1185    1    5    1]\n",
      " [   6    9   15    5   27    1    0 1153    7   35]\n",
      " [  10   35   16   31    6   38   12    4 1090   30]\n",
      " [   3   10    3   15   59   10    1   55    6 1088]]\n",
      "\n",
      "               precision    recall  f1-score   support\n",
      "\n",
      "           0      0.950     0.966     0.958      1245\n",
      "           1      0.933     0.964     0.948      1460\n",
      "           2      0.893     0.875     0.884      1225\n",
      "           3      0.898     0.857     0.877      1285\n",
      "           4      0.886     0.900     0.893      1189\n",
      "           5      0.871     0.857     0.864      1167\n",
      "           6      0.925     0.949     0.937      1249\n",
      "           7      0.907     0.917     0.912      1258\n",
      "           8      0.894     0.857     0.875      1272\n",
      "           9      0.856     0.870     0.863      1250\n",
      "\n",
      "    accuracy                          0.902     12600\n",
      "   macro avg      0.901     0.901     0.901     12600\n",
      "weighted avg      0.902     0.902     0.902     12600\n",
      "\n",
      "f1-score:  0.902\n"
     ]
    }
   ],
   "source": [
    "logistic_regression = LogisticRegression(max_iter=400)\n",
    "logistic_regression.fit(X_Strain, y_Strain)\n",
    "y_hat_log = logistic_regression.predict(X_Sval)\n",
    "\n",
    "print_report(y_Sval, y_hat_log)\n"
   ]
  },
  {
   "cell_type": "markdown",
   "metadata": {
    "id": "MKuXsxwBw1Wb"
   },
   "source": [
    "**2.2 Logistic Regression otimizado**"
   ]
  },
  {
   "cell_type": "markdown",
   "metadata": {
    "id": "mOPK_ec99BBL"
   },
   "source": [
    "A otimização, neste caso, é feita apenas através do parâmetro C, o qual controla o nível de regularização do modelo. Conforme compreensão deste aluno sobre a documentação do modelo, os demais parâmetros não pareceram ter influência direta sobre f1_score."
   ]
  },
  {
   "cell_type": "code",
   "execution_count": null,
   "metadata": {
    "colab": {
     "base_uri": "https://localhost:8080/"
    },
    "executionInfo": {
     "elapsed": 238833,
     "status": "ok",
     "timestamp": 1625340397290,
     "user": {
      "displayName": "Ciro Batista Rosa",
      "photoUrl": "https://lh3.googleusercontent.com/a-/AOh14GgIDY6zWcb4ZsYOEq76CKwmEYmV2o8kRAKi2ezkUw=s64",
      "userId": "06363358031992547489"
     },
     "user_tz": 180
    },
    "id": "JC3RKuzew1Wb",
    "outputId": "28d3af0e-d860-475c-8081-7ef99ff898b2"
   },
   "outputs": [
    {
     "name": "stdout",
     "output_type": "stream",
     "text": [
      "\n",
      " [[1203    0    8    3    1    8    9    4    6    3]\n",
      " [   1 1408   11    5    1    6    2    5   19    2]\n",
      " [   9   10 1072   21   18    8   22   29   29    7]\n",
      " [   5   13   45 1101    1   64    7   11   22   16]\n",
      " [   0   10    6    0 1070    1   15    4    4   79]\n",
      " [  17    9   10   43   14 1000   28    5   31   10]\n",
      " [  12    5   15    2   11   12 1185    1    5    1]\n",
      " [   6    9   15    5   27    1    0 1153    7   35]\n",
      " [  10   35   16   31    6   38   12    4 1090   30]\n",
      " [   3   10    3   15   59   10    1   55    6 1088]]\n",
      "\n",
      "               precision    recall  f1-score   support\n",
      "\n",
      "           0      0.950     0.966     0.958      1245\n",
      "           1      0.933     0.964     0.948      1460\n",
      "           2      0.893     0.875     0.884      1225\n",
      "           3      0.898     0.857     0.877      1285\n",
      "           4      0.886     0.900     0.893      1189\n",
      "           5      0.871     0.857     0.864      1167\n",
      "           6      0.925     0.949     0.937      1249\n",
      "           7      0.907     0.917     0.912      1258\n",
      "           8      0.894     0.857     0.875      1272\n",
      "           9      0.856     0.870     0.863      1250\n",
      "\n",
      "    accuracy                          0.902     12600\n",
      "   macro avg      0.901     0.901     0.901     12600\n",
      "weighted avg      0.902     0.902     0.902     12600\n",
      "\n",
      "f1-score:  0.902\n",
      "best parameters:  {'C': 1.0}\n"
     ]
    }
   ],
   "source": [
    "parameters = {'C': [1.0, 0.5, 0.25]}\n",
    "logistic_regression = LogisticRegression(max_iter=400)\n",
    "clf = GridSearchCV(logistic_regression, parameters, scoring='f1_micro')\n",
    "clf = clf.fit(X_Strain, y_Strain)\n",
    "y_hat_log = clf.predict(X_Sval)\n",
    "\n",
    "print_report(y_Sval, y_hat_log)\n",
    "print('best parameters: ', clf.best_params_)\n",
    "df_log = pd.DataFrame(clf.cv_results_)   # usar para debug do gridsearch\n"
   ]
  },
  {
   "cell_type": "markdown",
   "metadata": {
    "id": "jkBT0OuWw1Wc"
   },
   "source": [
    "**2.3 Neural Network básica**"
   ]
  },
  {
   "cell_type": "code",
   "execution_count": null,
   "metadata": {
    "colab": {
     "base_uri": "https://localhost:8080/"
    },
    "executionInfo": {
     "elapsed": 57096,
     "status": "ok",
     "timestamp": 1625340454381,
     "user": {
      "displayName": "Ciro Batista Rosa",
      "photoUrl": "https://lh3.googleusercontent.com/a-/AOh14GgIDY6zWcb4ZsYOEq76CKwmEYmV2o8kRAKi2ezkUw=s64",
      "userId": "06363358031992547489"
     },
     "user_tz": 180
    },
    "id": "rHjM0rHYw1Wc",
    "outputId": "f4821c19-5fc6-4715-a1a9-b33870aebdec"
   },
   "outputs": [
    {
     "name": "stdout",
     "output_type": "stream",
     "text": [
      "\n",
      " [[1219    1    2    2    1    1    9    1    3    6]\n",
      " [   1 1432   12    0    1    2    3    5    4    0]\n",
      " [   1    4 1185    8    3    0    6   10    5    3]\n",
      " [   1    3   12 1218    1   15    1    6   18   10]\n",
      " [   1    2    4    1 1140    4    7    4    4   22]\n",
      " [   6    2    2   24    3 1110   10    3    1    6]\n",
      " [   7    3    2    2    0    9 1221    1    4    0]\n",
      " [   3    3    2    7    7    3    0 1224    1    8]\n",
      " [   2   15    7   10    5   11    7    0 1202   13]\n",
      " [   0    1    1   11   13    8    0   17   12 1187]]\n",
      "\n",
      "               precision    recall  f1-score   support\n",
      "\n",
      "           0      0.982     0.979     0.981      1245\n",
      "           1      0.977     0.981     0.979      1460\n",
      "           2      0.964     0.967     0.966      1225\n",
      "           3      0.949     0.948     0.949      1285\n",
      "           4      0.971     0.959     0.965      1189\n",
      "           5      0.954     0.951     0.953      1167\n",
      "           6      0.966     0.978     0.972      1249\n",
      "           7      0.963     0.973     0.968      1258\n",
      "           8      0.959     0.945     0.952      1272\n",
      "           9      0.946     0.950     0.948      1250\n",
      "\n",
      "    accuracy                          0.963     12600\n",
      "   macro avg      0.963     0.963     0.963     12600\n",
      "weighted avg      0.963     0.963     0.963     12600\n",
      "\n",
      "f1-score:  0.963\n"
     ]
    }
   ],
   "source": [
    "mlp_classifier = MLPClassifier()\n",
    "mlp_classifier.fit(X_Strain, y_Strain)\n",
    "y_hat_mlp = mlp_classifier.predict(X_Sval)\n",
    "\n",
    "print_report(y_Sval, y_hat_mlp)\n"
   ]
  },
  {
   "cell_type": "markdown",
   "metadata": {
    "id": "kPDaVWhKw1Wc"
   },
   "source": [
    "**2.4 Neural Network otimizada**"
   ]
  },
  {
   "cell_type": "markdown",
   "metadata": {
    "id": "tPZ9M7y_-YL4"
   },
   "source": [
    "Para este modelo, quatro parâmetros foram escolhidos para varredura em grid: número de camadas escondidas do modelo, a função de ativação da rede, a estratégia de cálculo e a taxa de aprendizado. Com exceção do número de camadas escondidas, os demais parâmetros foram limitados em duas opções, de modo a evitar longos tempos de execução para o processo."
   ]
  },
  {
   "cell_type": "code",
   "execution_count": null,
   "metadata": {
    "colab": {
     "base_uri": "https://localhost:8080/"
    },
    "executionInfo": {
     "elapsed": 5389343,
     "status": "ok",
     "timestamp": 1625345843707,
     "user": {
      "displayName": "Ciro Batista Rosa",
      "photoUrl": "https://lh3.googleusercontent.com/a-/AOh14GgIDY6zWcb4ZsYOEq76CKwmEYmV2o8kRAKi2ezkUw=s64",
      "userId": "06363358031992547489"
     },
     "user_tz": 180
    },
    "id": "Mj1PxIbGw1Wd",
    "outputId": "9b93bd53-8701-45bf-d788-1a922b167520"
   },
   "outputs": [
    {
     "name": "stdout",
     "output_type": "stream",
     "text": [
      "\n",
      " [[1219    2    3    1    0    3    9    4    1    3]\n",
      " [   1 1433   12    2    0    2    2    7    1    0]\n",
      " [   3    3 1180    8    4    0    3   10   12    2]\n",
      " [   0    3    9 1232    0   14    1    6    8   12]\n",
      " [   0    1    1    0 1156    2    8    2    3   16]\n",
      " [   7    1    3   10    2 1126    9    1    3    5]\n",
      " [   9    2    6    0    1    9 1215    3    4    0]\n",
      " [   4    3    3    2    8    2    0 1225    1   10]\n",
      " [   2   15    7    6    9   15    5    3 1200   10]\n",
      " [   1    2    0   10   13    5    0   13    6 1200]]\n",
      "\n",
      "               precision    recall  f1-score   support\n",
      "\n",
      "           0      0.978     0.979     0.979      1245\n",
      "           1      0.978     0.982     0.980      1460\n",
      "           2      0.964     0.963     0.964      1225\n",
      "           3      0.969     0.959     0.964      1285\n",
      "           4      0.969     0.972     0.971      1189\n",
      "           5      0.956     0.965     0.960      1167\n",
      "           6      0.970     0.973     0.972      1249\n",
      "           7      0.962     0.974     0.968      1258\n",
      "           8      0.969     0.943     0.956      1272\n",
      "           9      0.954     0.960     0.957      1250\n",
      "\n",
      "    accuracy                          0.967     12600\n",
      "   macro avg      0.967     0.967     0.967     12600\n",
      "weighted avg      0.967     0.967     0.967     12600\n",
      "\n",
      "f1-score:  0.967\n",
      "best parameters:  {'activation': 'tanh', 'hidden_layer_sizes': 120, 'learning_rate': 'adaptive', 'solver': 'adam'}\n"
     ]
    }
   ],
   "source": [
    "parameters = {'hidden_layer_sizes': [80, 100, 120],\n",
    "              'activation': ['tanh', 'relu'],\n",
    "              'solver': ['lbfgs', 'adam'],\n",
    "              'learning_rate': ['constant', 'adaptive']}\n",
    "mlp_classifier = MLPClassifier(max_iter=400)\n",
    "clf = GridSearchCV(mlp_classifier, parameters, scoring='f1_micro')\n",
    "clf = clf.fit(X_Strain, y_Strain)\n",
    "y_hat_mlp = clf.predict(X_Sval)\n",
    "\n",
    "print_report(y_Sval, y_hat_mlp)\n",
    "print('best parameters: ', clf.best_params_)\n",
    "df_mlp = pd.DataFrame(clf.cv_results_)   # usar para debug do gridsearch\n"
   ]
  },
  {
   "cell_type": "markdown",
   "metadata": {
    "id": "4oZJGdCyw1Wg"
   },
   "source": [
    "**PCA para SVM**\n",
    "\n",
    "Como preparação para determinar o número de componentes (n_components) a ser utilizado de fato durante o Principal Component Análise, executa-se o código a seguir para:\n",
    "* Verificar o percentual de colaboração de cada componente com a variância total dos dados;\n",
    "* Definir n_components como o número de componentes que contribui com até 95% do total da variância."
   ]
  },
  {
   "cell_type": "code",
   "execution_count": null,
   "metadata": {
    "colab": {
     "base_uri": "https://localhost:8080/"
    },
    "executionInfo": {
     "elapsed": 2641,
     "status": "ok",
     "timestamp": 1625345846330,
     "user": {
      "displayName": "Ciro Batista Rosa",
      "photoUrl": "https://lh3.googleusercontent.com/a-/AOh14GgIDY6zWcb4ZsYOEq76CKwmEYmV2o8kRAKi2ezkUw=s64",
      "userId": "06363358031992547489"
     },
     "user_tz": 180
    },
    "id": "nUSH7C-Uw1Wg",
    "outputId": "622c6724-513e-4318-89bd-d09f6837f702"
   },
   "outputs": [
    {
     "name": "stdout",
     "output_type": "stream",
     "text": [
      "n_components definido como:  74\n"
     ]
    }
   ],
   "source": [
    "# returns the number of elements where its cumulative variance accounts\n",
    "# for up to 95% of the total variance\n",
    "def n_components_pca(v):\n",
    "    v = -np.sort(-v)\n",
    "    v = np.cumsum(v)\n",
    "    v = v <= 0.95\n",
    "    n = np.sum(v)\n",
    "    \n",
    "    return n\n",
    "\n",
    "# optipmizing pca\n",
    "pca = PCA(svd_solver='randomized', whiten=True)\n",
    "pca = pca.fit(X_Strain)\n",
    "n_pca = n_components_pca(pca.explained_variance_ratio_)\n",
    "print(\"n_components definido como: \", n_pca)\n",
    "\n",
    "# final pca\n",
    "pca = PCA(n_components = n_pca, svd_solver='randomized', whiten=True)\n",
    "pca = pca.fit(X_Strain)\n",
    "X_Strain_pca = pca.transform(X_Strain)\n",
    "X_Sval_pca = pca.transform(X_Sval)\n"
   ]
  },
  {
   "cell_type": "markdown",
   "metadata": {
    "id": "O6ExIFhRw1Wh"
   },
   "source": [
    "**2.5 SVM básico**"
   ]
  },
  {
   "cell_type": "code",
   "execution_count": null,
   "metadata": {
    "colab": {
     "base_uri": "https://localhost:8080/"
    },
    "executionInfo": {
     "elapsed": 68029,
     "status": "ok",
     "timestamp": 1625345914354,
     "user": {
      "displayName": "Ciro Batista Rosa",
      "photoUrl": "https://lh3.googleusercontent.com/a-/AOh14GgIDY6zWcb4ZsYOEq76CKwmEYmV2o8kRAKi2ezkUw=s64",
      "userId": "06363358031992547489"
     },
     "user_tz": 180
    },
    "id": "ESw6rEVzw1Wh",
    "outputId": "76cfca7f-a693-4039-b090-a21930de149a"
   },
   "outputs": [
    {
     "name": "stdout",
     "output_type": "stream",
     "text": [
      "\n",
      " [[1233    1    4    0    0    0    2    2    2    1]\n",
      " [   0 1441    7    1    1    2    1    5    2    0]\n",
      " [   2    5 1175    5    5    4    4   12   13    0]\n",
      " [   1    3   15 1227    1   16    0    7    8    7]\n",
      " [   0    4    3    0 1140    1    6    4    3   28]\n",
      " [   5    1    3   17    3 1121   12    1    4    0]\n",
      " [   9    3    1    1    1    6 1222    0    6    0]\n",
      " [   2    3    4    1   12    0    0 1223    3   10]\n",
      " [   0   14    6    8    6   14    4    0 1211    9]\n",
      " [   1    2    1   17   19    4    0   14    3 1189]]\n",
      "\n",
      "               precision    recall  f1-score   support\n",
      "\n",
      "           0      0.984     0.990     0.987      1245\n",
      "           1      0.976     0.987     0.981      1460\n",
      "           2      0.964     0.959     0.962      1225\n",
      "           3      0.961     0.955     0.958      1285\n",
      "           4      0.960     0.959     0.959      1189\n",
      "           5      0.960     0.961     0.960      1167\n",
      "           6      0.977     0.978     0.978      1249\n",
      "           7      0.965     0.972     0.968      1258\n",
      "           8      0.965     0.952     0.958      1272\n",
      "           9      0.956     0.951     0.953      1250\n",
      "\n",
      "    accuracy                          0.967     12600\n",
      "   macro avg      0.967     0.966     0.967     12600\n",
      "weighted avg      0.967     0.967     0.967     12600\n",
      "\n",
      "f1-score:  0.967\n"
     ]
    }
   ],
   "source": [
    "svm_classifier = SVC()\n",
    "svm_classifier = svm_classifier.fit(X_Strain_pca, y_Strain)\n",
    "y_hat_svm = svm_classifier.predict(X_Sval_pca)\n",
    "\n",
    "print_report(y_Sval, y_hat_svm)\n"
   ]
  },
  {
   "cell_type": "markdown",
   "metadata": {
    "id": "xSBHuI0ww1Wh"
   },
   "source": [
    "**2.6 SVM otimizado**"
   ]
  },
  {
   "cell_type": "markdown",
   "metadata": {
    "id": "UqOpNBf8K0NB"
   },
   "source": [
    "Para este modelo, três parâmetros são escolhidos: regularização, kernel do algoritmo, e coeficiente do kernel. Novamente, para fins de exercício e limitação de tempo de cálculo, as opções para cada parâmetro foram limitadas."
   ]
  },
  {
   "cell_type": "code",
   "execution_count": null,
   "metadata": {
    "colab": {
     "base_uri": "https://localhost:8080/"
    },
    "executionInfo": {
     "elapsed": 2427823,
     "status": "ok",
     "timestamp": 1625348342163,
     "user": {
      "displayName": "Ciro Batista Rosa",
      "photoUrl": "https://lh3.googleusercontent.com/a-/AOh14GgIDY6zWcb4ZsYOEq76CKwmEYmV2o8kRAKi2ezkUw=s64",
      "userId": "06363358031992547489"
     },
     "user_tz": 180
    },
    "id": "ciN2k6Cfw1Wi",
    "outputId": "1985f381-a4ee-4458-dd39-11646249df22"
   },
   "outputs": [
    {
     "name": "stdout",
     "output_type": "stream",
     "text": [
      "\n",
      " [[1233    1    4    0    0    0    2    2    2    1]\n",
      " [   0 1441    7    1    1    2    1    5    2    0]\n",
      " [   2    5 1175    5    5    4    4   12   13    0]\n",
      " [   1    3   15 1227    1   16    0    7    8    7]\n",
      " [   0    4    3    0 1140    1    6    4    3   28]\n",
      " [   5    1    3   17    3 1121   12    1    4    0]\n",
      " [   9    3    1    1    1    6 1222    0    6    0]\n",
      " [   2    3    4    1   12    0    0 1223    3   10]\n",
      " [   0   14    6    8    6   14    4    0 1211    9]\n",
      " [   1    2    1   17   19    4    0   14    3 1189]]\n",
      "\n",
      "               precision    recall  f1-score   support\n",
      "\n",
      "           0      0.984     0.990     0.987      1245\n",
      "           1      0.976     0.987     0.981      1460\n",
      "           2      0.964     0.959     0.962      1225\n",
      "           3      0.961     0.955     0.958      1285\n",
      "           4      0.960     0.959     0.959      1189\n",
      "           5      0.960     0.961     0.960      1167\n",
      "           6      0.977     0.978     0.978      1249\n",
      "           7      0.965     0.972     0.968      1258\n",
      "           8      0.965     0.952     0.958      1272\n",
      "           9      0.956     0.951     0.953      1250\n",
      "\n",
      "    accuracy                          0.967     12600\n",
      "   macro avg      0.967     0.966     0.967     12600\n",
      "weighted avg      0.967     0.967     0.967     12600\n",
      "\n",
      "f1-score:  0.967\n",
      "best parameters:  {'C': 1.0, 'gamma': 'auto', 'kernel': 'rbf'}\n"
     ]
    }
   ],
   "source": [
    "parameters = {'C': [1.0, 0.5, 0.25],\n",
    "              'kernel': ['rbf', 'sigmoid'],\n",
    "              'gamma': ['scale', 'auto']}\n",
    "svm_classifier = SVC()\n",
    "clf = GridSearchCV(svm_classifier, parameters, scoring='f1_micro')\n",
    "clf = clf.fit(X_Strain_pca, y_Strain)\n",
    "y_hat_svm = clf.predict(X_Sval_pca)\n",
    "\n",
    "print_report(y_Sval, y_hat_svm)\n",
    "print('best parameters: ', clf.best_params_)\n",
    "df_svm = pd.DataFrame(clf.cv_results_)   # usar para debug do gridsearch\n"
   ]
  },
  {
   "cell_type": "markdown",
   "metadata": {
    "id": "FlNSAfnJ_YvR"
   },
   "source": [
    "\n",
    "**Conclusões:**\n",
    "\n",
    "a. A otimização para a regressão logística resultou na obtenção do parâmetro C=1.0 default para o modelo. Como consequência, ambos os experimentos obtiveram resultado idêntico. Por uma questão de simplicidade, o modelo básico (apenas com parâmetros default) é escolhido.\n",
    "\n",
    "f1-score = 0.902\n",
    "\n",
    "b. A otimização para a rede neural resultou em um f1-score ligeiramente superior em relação aos parâmetros básicos. Neste caso, a versão otimizada abaixo é escolhida como melhor solução para o modelo:\n",
    "\n",
    "{'activation': 'tanh',\n",
    "\n",
    " 'hidden_layer_sizes': 120,\n",
    "\n",
    " 'learning_rate': 'constant',\n",
    "\n",
    " 'solver': 'adam'}\n",
    "\n",
    "f1-score: 0.967\n",
    "\n",
    "c. Por fim, para o SVM, a análise PCA identificou 74 elementos de entrada com contribuição de variância de 95% do total. O SVM básico obteve performance idêntica à rede neural otimizada. Já o SVM otimizado, para a varredura escolhida, não obteve melhoria em relação ao SVM básico. Por este motivo e por uma questão de simplicidade, a melhor solução é escolhida como sendo aquela com parâmetros default.\n",
    "\n",
    "f1-score:  0.967\n"
   ]
  },
  {
   "cell_type": "markdown",
   "metadata": {
    "id": "qVB-AykliY5n"
   },
   "source": [
    "**3. Choosing a final model**"
   ]
  },
  {
   "cell_type": "markdown",
   "metadata": {
    "id": "ZzarSLnLike3"
   },
   "source": [
    "O código a seguir instancia e treina modelos utilizando Dtrain, conforme as otimizações escolhidas na seção anterior:"
   ]
  },
  {
   "cell_type": "code",
   "execution_count": null,
   "metadata": {
    "id": "w-sSr4Kqi7fT"
   },
   "outputs": [],
   "source": [
    "logistic_regression = LogisticRegression(max_iter=400)\n",
    "logistic_regression.fit(X_Dtrain, y_Dtrain)\n",
    "\n",
    "mlp_classifier = MLPClassifier(activation='tanh',\n",
    "                               hidden_layer_sizes= 120,\n",
    "                               learning_rate='constant',\n",
    "                               solver='adam')\n",
    "mlp_classifier.fit(X_Dtrain, y_Dtrain)\n",
    "\n",
    "pca = PCA(n_components = 74, svd_solver='randomized', whiten=True)\n",
    "pca = pca.fit(X_Dtrain)\n",
    "X_Dtrain_pca = pca.transform(X_Dtrain)\n",
    "X_Dval_pca = pca.transform(X_Dval)\n",
    "svm_classifier = SVC()\n",
    "svm_classifier = svm_classifier.fit(X_Dtrain_pca, y_Dtrain)\n"
   ]
  },
  {
   "cell_type": "markdown",
   "metadata": {
    "id": "QqyWqYdBkuqu"
   },
   "source": [
    "Avaliando cada modelo com Dval, temos:"
   ]
  },
  {
   "cell_type": "code",
   "execution_count": null,
   "metadata": {
    "colab": {
     "base_uri": "https://localhost:8080/"
    },
    "executionInfo": {
     "elapsed": 41495,
     "status": "ok",
     "timestamp": 1625348604564,
     "user": {
      "displayName": "Ciro Batista Rosa",
      "photoUrl": "https://lh3.googleusercontent.com/a-/AOh14GgIDY6zWcb4ZsYOEq76CKwmEYmV2o8kRAKi2ezkUw=s64",
      "userId": "06363358031992547489"
     },
     "user_tz": 180
    },
    "id": "58Y_TYFGkzwN",
    "outputId": "ff2d98f0-b253-4ac7-f608-6be9b8cdb3f7"
   },
   "outputs": [
    {
     "name": "stdout",
     "output_type": "stream",
     "text": [
      "\n",
      " [[1724    1   11    5    8   18   16    5   16    1]\n",
      " [   1 1934   11   10    3   11    1    4   17    2]\n",
      " [   8   23 1563   25   20   10   28   33   42    7]\n",
      " [   8   10   45 1619    2   70    4   24   42   22]\n",
      " [   3    6   11    1 1606    3   14    9    9   64]\n",
      " [  20   16   20   61   16 1420   20   11   58   11]\n",
      " [  11    4   17    0   22   21 1694    3   14    1]\n",
      " [   7   18   30   10   21    3    0 1780    7   61]\n",
      " [  11   34   22   55   18   39   19    8 1499   25]\n",
      " [  12   10    3   22   63   12    0   53   16 1572]]\n",
      "\n",
      "               precision    recall  f1-score   support\n",
      "\n",
      "           0      0.955     0.955     0.955      1805\n",
      "           1      0.941     0.970     0.955      1994\n",
      "           2      0.902     0.889     0.895      1759\n",
      "           3      0.895     0.877     0.886      1846\n",
      "           4      0.903     0.930     0.916      1726\n",
      "           5      0.884     0.859     0.871      1653\n",
      "           6      0.943     0.948     0.946      1787\n",
      "           7      0.922     0.919     0.921      1937\n",
      "           8      0.872     0.866     0.869      1730\n",
      "           9      0.890     0.892     0.891      1763\n",
      "\n",
      "    accuracy                          0.912     18000\n",
      "   macro avg      0.911     0.911     0.911     18000\n",
      "weighted avg      0.911     0.912     0.912     18000\n",
      "\n",
      "f1-score:  0.912\n",
      "\n",
      " [[1769    1    1    4    4    3    9    3    8    3]\n",
      " [   0 1969    9    2    2    0    1    3    4    4]\n",
      " [   1    8 1705   11    7    0    3   10    9    5]\n",
      " [   2    0   22 1757    1   17    3   15   25    4]\n",
      " [   2    2    2    1 1680    1    3   10    2   23]\n",
      " [   5    3    2   20    3 1587   12    2    9   10]\n",
      " [   6    2    6    0    5    5 1754    2    7    0]\n",
      " [   3    8   24    4   11    2    0 1872    4    9]\n",
      " [   5    7    6   10    8    7    7    6 1662   12]\n",
      " [  10    1    1    8   17    4    1   15    5 1701]]\n",
      "\n",
      "               precision    recall  f1-score   support\n",
      "\n",
      "           0      0.981     0.980     0.981      1805\n",
      "           1      0.984     0.987     0.986      1994\n",
      "           2      0.959     0.969     0.964      1759\n",
      "           3      0.967     0.952     0.959      1846\n",
      "           4      0.967     0.973     0.970      1726\n",
      "           5      0.976     0.960     0.968      1653\n",
      "           6      0.978     0.982     0.980      1787\n",
      "           7      0.966     0.966     0.966      1937\n",
      "           8      0.958     0.961     0.959      1730\n",
      "           9      0.960     0.965     0.963      1763\n",
      "\n",
      "    accuracy                          0.970     18000\n",
      "   macro avg      0.970     0.970     0.970     18000\n",
      "weighted avg      0.970     0.970     0.970     18000\n",
      "\n",
      "f1-score:  0.970\n",
      "\n",
      " [[1776    0    3    1    4    4   12    1    3    1]\n",
      " [   1 1966   13    2    4    0    2    1    2    3]\n",
      " [   0    5 1720    4    6    1    0   15    7    1]\n",
      " [   3    1   23 1764    0   17    0    9   22    7]\n",
      " [   1    1    5    0 1685    0    3    7    3   21]\n",
      " [   4    1    1   18    5 1597    9    0   14    4]\n",
      " [   6    1    1    0    5    9 1760    0    5    0]\n",
      " [   2   11   19    2   10    0    0 1875    6   12]\n",
      " [   1    5    7   13    6    8    1    4 1678    7]\n",
      " [   8    0    3    1   19    4    0   16   10 1702]]\n",
      "\n",
      "               precision    recall  f1-score   support\n",
      "\n",
      "           0      0.986     0.984     0.985      1805\n",
      "           1      0.987     0.986     0.987      1994\n",
      "           2      0.958     0.978     0.968      1759\n",
      "           3      0.977     0.956     0.966      1846\n",
      "           4      0.966     0.976     0.971      1726\n",
      "           5      0.974     0.966     0.970      1653\n",
      "           6      0.985     0.985     0.985      1787\n",
      "           7      0.973     0.968     0.970      1937\n",
      "           8      0.959     0.970     0.964      1730\n",
      "           9      0.968     0.965     0.967      1763\n",
      "\n",
      "    accuracy                          0.974     18000\n",
      "   macro avg      0.973     0.973     0.973     18000\n",
      "weighted avg      0.974     0.974     0.974     18000\n",
      "\n",
      "f1-score:  0.974\n"
     ]
    }
   ],
   "source": [
    "y_hat_log = logistic_regression.predict(X_Dval)\n",
    "y_hat_mlp = mlp_classifier.predict(X_Dval)\n",
    "y_hat_svm = svm_classifier.predict(X_Dval_pca)\n",
    "\n",
    "print_report(y_Dval, y_hat_log)\n",
    "print_report(y_Dval, y_hat_mlp)\n",
    "print_report(y_Dval, y_hat_svm)\n"
   ]
  },
  {
   "cell_type": "markdown",
   "metadata": {
    "id": "AaJb5A3FrACa"
   },
   "source": [
    "**Conclusão:**\n",
    "\n",
    "O modelo final escolhido com base na avaliação com Dval é o SVM, devido a vantagem bastante pequena do f1-score em relação à Neural Network, porém confirmando vantagem mínima igualmente observada na etapa anterior. Ambos demonstraram visível vantagem em relação ao modelo-base de Logistic Regression.\n",
    "\n",
    "Todos os f1-scores obtidos nesta etapa preservam as ordens de grandeza observadas na etapa anterior.\n",
    "\n",
    "f1-log: 0.912\n",
    "\n",
    "f1-mlp: 0.970\n",
    "\n",
    "f1-svm: 0.974"
   ]
  },
  {
   "cell_type": "markdown",
   "metadata": {
    "id": "KMnLcFvIsj0_"
   },
   "source": [
    "**4. Error estimation**"
   ]
  },
  {
   "cell_type": "markdown",
   "metadata": {
    "id": "qXc7xb5oCBKM"
   },
   "source": [
    "Relembrando os resultados da seção anterior, SVM foi escolhido por sua performance com base em modelo treinado com Dtrain e avaliado com Dval. Para comparação de desempenho, este mesmo modelo é avaliado com o test data original do Mnist.\n",
    "\n",
    "Obs: Por questão de praticidade, Eout não é calculado diretamente. Em seu lugar, Precision e Recall são utilizados, já que indicam a quantidade de acertos de determinada predição. Sendo assim, Eout = (1 - precision) e/ou Eout = (1 - recall)."
   ]
  },
  {
   "cell_type": "code",
   "execution_count": null,
   "metadata": {
    "colab": {
     "base_uri": "https://localhost:8080/"
    },
    "executionInfo": {
     "elapsed": 22727,
     "status": "ok",
     "timestamp": 1625349732406,
     "user": {
      "displayName": "Ciro Batista Rosa",
      "photoUrl": "https://lh3.googleusercontent.com/a-/AOh14GgIDY6zWcb4ZsYOEq76CKwmEYmV2o8kRAKi2ezkUw=s64",
      "userId": "06363358031992547489"
     },
     "user_tz": 180
    },
    "id": "cNcjSnATCeFc",
    "outputId": "aaf158b5-8e98-469e-bd76-6cce9bc83c26"
   },
   "outputs": [
    {
     "name": "stdout",
     "output_type": "stream",
     "text": [
      "\n",
      " [[ 974    0    1    0    0    0    2    1    1    1]\n",
      " [   0 1124    4    1    0    2    1    0    2    1]\n",
      " [   3    1 1002    2    2    1    2    6   13    0]\n",
      " [   0    0    7  984    0    4    1    5    6    3]\n",
      " [   1    0    5    0  964    0    2    0    1    9]\n",
      " [   3    2    1   13    1  862    4    0    6    0]\n",
      " [   5    4    1    0    3    4  939    0    2    0]\n",
      " [   0   12   18    2    2    1    0  985    2    6]\n",
      " [   2    1    3    8    3    5    2    3  946    1]\n",
      " [   6    1    2    6   10    7    0    7    2  968]]\n",
      "\n",
      "               precision    recall  f1-score   support\n",
      "\n",
      "           0      0.980     0.994     0.987       980\n",
      "           1      0.982     0.990     0.986      1135\n",
      "           2      0.960     0.971     0.965      1032\n",
      "           3      0.969     0.974     0.971      1010\n",
      "           4      0.979     0.982     0.980       982\n",
      "           5      0.973     0.966     0.970       892\n",
      "           6      0.985     0.980     0.983       958\n",
      "           7      0.978     0.958     0.968      1028\n",
      "           8      0.964     0.971     0.968       974\n",
      "           9      0.979     0.959     0.969      1009\n",
      "\n",
      "    accuracy                          0.975     10000\n",
      "   macro avg      0.975     0.975     0.975     10000\n",
      "weighted avg      0.975     0.975     0.975     10000\n",
      "\n",
      "f1-score:  0.975\n"
     ]
    }
   ],
   "source": [
    "X_test_pca = pca.transform(X_test)\n",
    "y_hat_test = svm_classifier.predict(X_test_pca)\n",
    "print_report(y_test, y_hat_test)"
   ]
  },
  {
   "cell_type": "markdown",
   "metadata": {
    "id": "wIZ-7sI9DKGF"
   },
   "source": [
    "**Conclusão:**\n",
    "\n",
    "Precision, recall e f1-score todos apresentaram valores consistentes e praticamente idênticos com a etapa anterior, o que parece indicar uma modelagem adequada. O Eout (= 1 - Recall) foi ligeiramente menor que o Ein, o que sugere denotar inexistência de overfitting.\n"
   ]
  },
  {
   "cell_type": "markdown",
   "metadata": {
    "id": "l3lLQE2IDMtX"
   },
   "source": [
    "Por fim, o SVM é treinado com a base de dados de treinamento do Mnist (= Dtrain + Dval), e avaliado com a base de dados de teste do Mnist:"
   ]
  },
  {
   "cell_type": "code",
   "execution_count": null,
   "metadata": {
    "colab": {
     "base_uri": "https://localhost:8080/"
    },
    "executionInfo": {
     "elapsed": 176958,
     "status": "ok",
     "timestamp": 1625349915242,
     "user": {
      "displayName": "Ciro Batista Rosa",
      "photoUrl": "https://lh3.googleusercontent.com/a-/AOh14GgIDY6zWcb4ZsYOEq76CKwmEYmV2o8kRAKi2ezkUw=s64",
      "userId": "06363358031992547489"
     },
     "user_tz": 180
    },
    "id": "60Fw82Y40xmt",
    "outputId": "3b4c2518-39e3-4f8c-f553-d8685cc47d44"
   },
   "outputs": [
    {
     "name": "stdout",
     "output_type": "stream",
     "text": [
      "\n",
      " [[ 973    0    1    0    0    0    2    1    2    1]\n",
      " [   0 1126    3    1    1    1    1    0    2    0]\n",
      " [   4    1 1001    1    3    1    2    8   10    1]\n",
      " [   2    0    3  989    0    3    0    4    6    3]\n",
      " [   1    0    4    0  966    0    2    0    1    8]\n",
      " [   2    1    1   10    0  870    4    0    3    1]\n",
      " [   5    4    1    0    4    2  939    0    3    0]\n",
      " [   1    9   14    2    2    1    0  994    2    3]\n",
      " [   3    0    3    6    2    5    2    3  948    2]\n",
      " [   6    1    2    6    9    8    0    7    2  968]]\n",
      "\n",
      "               precision    recall  f1-score   support\n",
      "\n",
      "           0      0.976     0.993     0.984       980\n",
      "           1      0.986     0.992     0.989      1135\n",
      "           2      0.969     0.970     0.969      1032\n",
      "           3      0.974     0.979     0.977      1010\n",
      "           4      0.979     0.984     0.981       982\n",
      "           5      0.976     0.975     0.976       892\n",
      "           6      0.986     0.980     0.983       958\n",
      "           7      0.977     0.967     0.972      1028\n",
      "           8      0.968     0.973     0.971       974\n",
      "           9      0.981     0.959     0.970      1009\n",
      "\n",
      "    accuracy                          0.977     10000\n",
      "   macro avg      0.977     0.977     0.977     10000\n",
      "weighted avg      0.977     0.977     0.977     10000\n",
      "\n",
      "f1-score:  0.977\n"
     ]
    }
   ],
   "source": [
    "X_train_pca = pca.transform(X_train)\n",
    "svm_classifier = svm_classifier.fit(X_train_pca, y_train)\n",
    "y_hat_mnist = svm_classifier.predict(X_test_pca)\n",
    "print_report(y_test, y_hat_mnist)\n"
   ]
  },
  {
   "cell_type": "markdown",
   "metadata": {
    "id": "y3RnbRivDz_2"
   },
   "source": [
    "**Conclusão:**\n",
    "\n",
    "Desta vez utilizando-se toda a base Mnist para treinamento e teste, precision, recall e f1-score apresentaram consistência com os experimentos anteriores. Nesta nova estimativa de Eout (= 1 - Recall), o valor encontrado foi ligeiramente menor que o Ein calculado nas seções anteriores, o que reforça a hipese de inexistência de overfitting.\n"
   ]
  }
 ],
 "metadata": {
  "celltoolbar": "Raw Cell Format",
  "colab": {
   "collapsed_sections": [],
   "name": "ep04.ipynb",
   "provenance": []
  },
  "kernelspec": {
   "display_name": "Python 3",
   "language": "python",
   "name": "python3"
  },
  "language_info": {
   "codemirror_mode": {
    "name": "ipython",
    "version": 3
   },
   "file_extension": ".py",
   "mimetype": "text/x-python",
   "name": "python",
   "nbconvert_exporter": "python",
   "pygments_lexer": "ipython3",
   "version": "3.8.10"
  }
 },
 "nbformat": 4,
 "nbformat_minor": 1
}
