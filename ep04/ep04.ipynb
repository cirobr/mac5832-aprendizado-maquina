{
 "cells": [
  {
   "cell_type": "code",
   "execution_count": 1,
   "metadata": {},
   "outputs": [
    {
     "name": "stdout",
     "output_type": "stream",
     "text": [
      "\n",
      "Name:  Ciro B Rosa\n",
      "\n",
      "Honor pledge:  I affirm that I have not given or received any unauthorized help on this assignment, and that this work is my own.\n",
      "\n"
     ]
    }
   ],
   "source": [
    "name = \"Ciro B Rosa\"  # write YOUR NAME\n",
    "\n",
    "honorPledge = \"I affirm that I have not given or received any unauthorized \" \\\n",
    "              \"help on this assignment, and that this work is my own.\\n\"\n",
    "\n",
    "\n",
    "print(\"\\nName: \", name)\n",
    "print(\"\\nHonor pledge: \", honorPledge)\n"
   ]
  },
  {
   "cell_type": "code",
   "execution_count": 2,
   "metadata": {
    "scrolled": false
   },
   "outputs": [],
   "source": [
    "import numpy as np\n",
    "import matplotlib.pyplot as plt\n",
    "from tensorflow.keras.datasets import mnist\n",
    "\n",
    "%matplotlib inline"
   ]
  },
  {
   "cell_type": "code",
   "execution_count": 3,
   "metadata": {},
   "outputs": [
    {
     "name": "stdout",
     "output_type": "stream",
     "text": [
      "(60000, 28, 28) (60000,)\n",
      "(10000, 28, 28) (10000,)\n"
     ]
    }
   ],
   "source": [
    "(X_train_ori, y_train_ori), (X_test_ori, y_test_ori) = mnist.load_data()\n",
    "\n",
    "print(X_train_ori.shape, y_train_ori.shape)\n",
    "print(X_test_ori.shape, y_test_ori.shape)"
   ]
  },
  {
   "cell_type": "code",
   "execution_count": 4,
   "metadata": {},
   "outputs": [
    {
     "data": {
      "image/png": "[encoded data removed]",
      "text/plain": [
       "<Figure size 432x288 with 1 Axes>"
      ]
     },
     "metadata": {
      "needs_background": "light"
     },
     "output_type": "display_data"
    }
   ],
   "source": [
    "labels = [\"%s\"%i for i in range(10)]\n",
    "\n",
    "unique, counts = np.unique(y_train_ori, return_counts=True)\n",
    "uniquet, countst = np.unique(y_test_ori, return_counts=True)\n",
    "\n",
    "fig, ax = plt.subplots()\n",
    "rects1 = ax.bar(unique - 0.2, counts, 0.25, label='Train')\n",
    "rects2 = ax.bar(unique + 0.2, countst, 0.25, label='Test')\n",
    "ax.legend()\n",
    "ax.set_xticks(unique)\n",
    "ax.set_xticklabels(labels)\n",
    "\n",
    "plt.title('MNIST classes')\n",
    "plt.xlabel('Class')\n",
    "plt.ylabel('Frequency')\n",
    "plt.show()"
   ]
  },
  {
   "cell_type": "code",
   "execution_count": 5,
   "metadata": {},
   "outputs": [
    {
     "data": {
      "image/png": "[encoded data removed]",
      "text/plain": [
       "<Figure size 648x432 with 6 Axes>"
      ]
     },
     "metadata": {
      "needs_background": "light"
     },
     "output_type": "display_data"
    }
   ],
   "source": [
    "fig, ax = plt.subplots(2, 3, figsize = (9, 6))\n",
    "\n",
    "for i in range(6):\n",
    "    ax[i//3, i%3].imshow(X_train_ori[i], cmap='gray')\n",
    "    ax[i//3, i%3].axis('off')\n",
    "    ax[i//3, i%3].set_title(\"Class: %d\"%y_train_ori[i])\n",
    "    \n",
    "plt.show()"
   ]
  },
  {
   "cell_type": "code",
   "execution_count": 6,
   "metadata": {},
   "outputs": [],
   "source": [
    "# Reduce the image size to its half \n",
    "X_train = np.array([image[::2, 1::2] for image in X_train_ori])\n",
    "X_test  = np.array([image[::2, 1::2] for image in X_test_ori])\n",
    "\n",
    "y_train = y_train_ori\n",
    "y_test = y_test_ori"
   ]
  },
  {
   "cell_type": "code",
   "execution_count": 7,
   "metadata": {},
   "outputs": [
    {
     "data": {
      "image/png": "[encoded data removed]",
      "text/plain": [
       "<Figure size 648x432 with 6 Axes>"
      ]
     },
     "metadata": {
      "needs_background": "light"
     },
     "output_type": "display_data"
    }
   ],
   "source": [
    "fig, ax = plt.subplots(2, 3, figsize = (9, 6))\n",
    "\n",
    "for i in range(6):\n",
    "    ax[i//3, i%3].imshow(X_train[i], cmap='gray')\n",
    "    ax[i//3, i%3].axis('off')\n",
    "    ax[i//3, i%3].set_title(\"Class: %d\"%y_train_ori[i])\n",
    "    \n",
    "plt.show()"
   ]
  },
  {
   "cell_type": "code",
   "execution_count": 8,
   "metadata": {},
   "outputs": [
    {
     "name": "stdout",
     "output_type": "stream",
     "text": [
      "float32\n",
      "float32\n",
      "\n",
      "Shape of X_train:  (60000, 196)\n",
      "Shape of X_test:  (10000, 196)\n",
      "\n",
      "Minimum value in X_train: 0.0\n",
      "Maximum value in X_train: 1.0\n",
      "\n",
      "Minimum value in X_test: 0.0\n",
      "Maximum value in X_test: 1.0\n"
     ]
    }
   ],
   "source": [
    "X_train = (X_train/255.0).astype('float32').reshape((60000,14*14))\n",
    "X_test = (X_test/255.0).astype('float32').reshape((10000,14*14))\n",
    "\n",
    "print(X_train.dtype)\n",
    "print(X_test.dtype)\n",
    "\n",
    "print(\"\\nShape of X_train: \", X_train.shape)\n",
    "print(\"Shape of X_test: \", X_test.shape)\n",
    "\n",
    "print(\"\\nMinimum value in X_train:\", np.amin(X_train))\n",
    "print(\"Maximum value in X_train:\", np.amax(X_train))\n",
    "\n",
    "print(\"\\nMinimum value in X_test:\", np.amin(X_test))\n",
    "print(\"Maximum value in X_test:\", np.amax(X_test))\n"
   ]
  }
 ],
 "metadata": {
  "kernelspec": {
   "display_name": "Python 3",
   "language": "python",
   "name": "python3"
  },
  "language_info": {
   "codemirror_mode": {
    "name": "ipython",
    "version": 3
   },
   "file_extension": ".py",
   "mimetype": "text/x-python",
   "name": "python",
   "nbconvert_exporter": "python",
   "pygments_lexer": "ipython3",
   "version": "3.8.10"
  }
 },
 "nbformat": 4,
 "nbformat_minor": 2
}
